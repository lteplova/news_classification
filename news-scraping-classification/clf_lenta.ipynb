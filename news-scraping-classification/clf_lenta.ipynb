{
  "cells": [
    {
      "cell_type": "markdown",
      "metadata": {
        "id": "n0b4LnikHRaO"
      },
      "source": [
        "<a href=\"https://colab.research.google.com/drive/1GHS6wHyaJ-etayVmL-r6eqTjYUjuWE-j?usp=sharing\" target=\"_parent\"><img src=\"https://colab.research.google.com/assets/colab-badge.svg\" alt=\"Open In Colab\"/></a>"
      ]
    },
    {
      "cell_type": "markdown",
      "metadata": {
        "id": "IK4Ik7TlZa9z"
      },
      "source": [
        "### импорт библиотек"
      ]
    },
    {
      "cell_type": "code",
      "execution_count": null,
      "metadata": {
        "id": "9vIH_B1RWQu1"
      },
      "outputs": [],
      "source": [
        "import pandas as pd\n",
        "import numpy as np\n",
        "from collections import Counter\n",
        "from datetime import datetime\n",
        "from tqdm.notebook import tqdm\n",
        "\n",
        "import seaborn as sns\n",
        "import matplotlib.pyplot as plt\n",
        "from wordcloud import WordCloud, STOPWORDS\n",
        "from scipy.stats import uniform\n",
        "import torch.nn.functional as F\n",
        "\n",
        "import torch\n",
        "import torchvision\n",
        "from torch.utils.data import Dataset, DataLoader\n",
        "import numpy as np\n",
        "import torch.nn as nn\n",
        "import math\n",
        "import torch.optim as optim\n",
        "\n",
        "import re\n",
        "import time\n",
        "import nltk\n",
        "from nltk.tokenize import sent_tokenize\n",
        "from nltk.corpus import stopwords\n",
        "from nltk.tokenize import word_tokenize\n",
        "from tqdm import tqdm\n",
        "from gensim import models\n",
        "import gensim\n",
        "from gensim.models import Word2Vec\n",
        "from sklearn.metrics import make_scorer, accuracy_score, precision_score, recall_score, f1_score\n",
        "\n",
        "from sklearn.model_selection import train_test_split\n",
        "from sklearn.model_selection import GridSearchCV\n",
        "from sklearn.ensemble import RandomForestClassifier\n",
        "from sklearn.dummy import DummyClassifier\n",
        "from sklearn.linear_model import LogisticRegression\n",
        "from sklearn.linear_model import SGDClassifier\n",
        "from sklearn.preprocessing import LabelEncoder\n",
        "from sklearn.feature_extraction.text import TfidfVectorizer\n",
        "from gensim.models import TfidfModel\n",
        "from sklearn.feature_extraction.text import CountVectorizer\n",
        "from sklearn.feature_extraction.text import TfidfTransformer\n",
        "from sklearn.ensemble import RandomForestClassifier\n",
        "from sklearn.decomposition import TruncatedSVD\n",
        "from sklearn.metrics import *\n",
        "\n",
        "from sklearn.linear_model import LogisticRegression, Ridge\n",
        "from sklearn.svm import SVC\n",
        "from xgboost import XGBClassifier\n",
        "from sklearn.naive_bayes import BernoulliNB\n",
        "from sklearn.model_selection import RandomizedSearchCV\n",
        "from sklearn.model_selection import cross_validate\n",
        "from sklearn import metrics\n",
        "from sklearn.preprocessing import MaxAbsScaler, StandardScaler, MinMaxScaler\n",
        "from sklearn.preprocessing import normalize\n",
        "\n",
        "\n",
        "import warnings\n",
        "warnings.filterwarnings(\"ignore\")\n",
        "\n",
        "# from tqdm import tqdm, tqdm_notebook\n",
        "from tqdm import tqdm\n",
        "tqdm.pandas()"
      ]
    },
    {
      "cell_type": "markdown",
      "metadata": {
        "id": "JrMI0EynZfvP"
      },
      "source": [
        "### загрузка данных"
      ]
    },
    {
      "cell_type": "code",
      "execution_count": null,
      "metadata": {
        "colab": {
          "base_uri": "https://localhost:8080/",
          "height": 424
        },
        "id": "4XxxTm6VF_ej",
        "outputId": "ab8dc9e8-f9fd-4236-8b11-2865a154fde5"
      },
      "outputs": [],
      "source": [
        "train = pd.read_pickle(\"/content/train.df\", compression=\"gzip\") # ссылка на датафрейм https://www.kaggle.com/datasets/luydmilateplova/lenta-f\n",
        "train"
      ]
    },
    {
      "cell_type": "code",
      "execution_count": null,
      "metadata": {
        "id": "t6GPm6rcIK9s"
      },
      "outputs": [],
      "source": [
        "train = pd.read_pickle(\"/content/train.df\", compression=\"gzip\")\n",
        "test_data = pd.read_pickle(\"/content/test.df\", compression=\"gzip\")"
      ]
    },
    {
      "cell_type": "code",
      "execution_count": null,
      "metadata": {
        "colab": {
          "base_uri": "https://localhost:8080/"
        },
        "id": "1CdpZV55uYMu",
        "outputId": "97acd79c-4bd8-46cf-fb5d-5434548f7c42"
      },
      "outputs": [],
      "source": [
        "!unzip test_news.csv.zip"
      ]
    },
    {
      "cell_type": "code",
      "execution_count": null,
      "metadata": {
        "id": "aA57C07CS2Zq"
      },
      "outputs": [],
      "source": [
        "# добавление кусочков (по 2000 строк) датафреймов в единый датасет\n",
        "\n",
        "f1 = pd.read_pickle(\"/content/fontanka_df2023.df\", compression=\"gzip\")\n",
        "f2 = pd.read_pickle(\"/content/fontanka_df2022.df\", compression=\"gzip\")\n",
        "f3 = pd.read_pickle(\"/content/fontanka_df2021.df\", compression=\"gzip\")\n",
        "f4 = pd.read_pickle(\"/content/fontanka_df2020.df\", compression=\"gzip\")\n",
        "f5 = pd.read_pickle(\"/content/fontanka_df2019.df\", compression=\"gzip\")\n",
        "\n",
        "\n",
        "# f2 = pd.read_pickle(\"/content/fontanka_df21.df\", compression=\"gzip\")\n",
        "# f3 = pd.read_pickle(\"/content/fontanka_df22_23.df\", compression=\"gzip\")\n",
        "\n",
        "fontan =  pd.concat((f1, f2, f3, f4, f5), axis=0)\n",
        "fontan\n"
      ]
    },
    {
      "cell_type": "code",
      "execution_count": null,
      "metadata": {
        "colab": {
          "base_uri": "https://localhost:8080/",
          "height": 81
        },
        "id": "5BMnpl3cTQ3Y",
        "outputId": "576a5050-1558-41d1-d80d-8a33635c3fb4"
      },
      "outputs": [],
      "source": [
        "fontan[fontan.duplicated()]"
      ]
    },
    {
      "cell_type": "code",
      "execution_count": null,
      "metadata": {
        "id": "BM6-4KmETswo"
      },
      "outputs": [],
      "source": [
        "# удаление дубликатов\n",
        "data_fontan = fontan.drop_duplicates(keep= False )\n",
        "data_fontan"
      ]
    },
    {
      "cell_type": "code",
      "execution_count": null,
      "metadata": {
        "colab": {
          "base_uri": "https://localhost:8080/",
          "height": 424
        },
        "id": "7nDhDp6vuTBb",
        "outputId": "90abbe78-f855-4d6b-f764-009158cdfbba"
      },
      "outputs": [],
      "source": [
        "# читаем тестовый датасет\n",
        "test_data = pd.read_csv('/content/test_news.csv')\n",
        "test_data"
      ]
    },
    {
      "cell_type": "code",
      "execution_count": null,
      "metadata": {
        "id": "6F7jzFlhuree"
      },
      "outputs": [],
      "source": [
        "# перемешивание данных в датафрейме\n",
        "# from sklearn.utils import shuffle\n",
        "# train_df = shuffle(train_df)\n",
        "# train_df"
      ]
    },
    {
      "cell_type": "code",
      "execution_count": null,
      "metadata": {
        "id": "yEl-uqMccMfv"
      },
      "outputs": [],
      "source": [
        "# склеивание кусочков спарсенных датафреймов\n",
        "# dff = ['01', '02', '03', '04', '05', '06', '07', '05', '06', '07', '08', '09'] + list(range(10, 76))\n",
        "# # ['01', '02', '03', '04', '05', '06', '07', '05', '06', '07', '08', '09']  + list(range(10, 76))\n",
        "# data = pd.DataFrame()\n",
        "# for i in dff:\n",
        "#     dat = pd.read_pickle(f\"{i}.df\", compression=\"gzip\")\n",
        "#     data =  pd.concat((data, dat), axis=0)\n"
      ]
    },
    {
      "cell_type": "code",
      "execution_count": null,
      "metadata": {
        "colab": {
          "base_uri": "https://localhost:8080/",
          "height": 424
        },
        "id": "XELHP8CudRVb",
        "outputId": "31dd69b0-6fa2-4391-ad27-93a86c8755bb"
      },
      "outputs": [],
      "source": [
        "data = pd.read_pickle('/content/lenta_all.df', compression=\"gzip\")\n",
        "data"
      ]
    },
    {
      "cell_type": "code",
      "execution_count": null,
      "metadata": {
        "colab": {
          "base_uri": "https://localhost:8080/"
        },
        "id": "2ZGhhIzVK8lR",
        "outputId": "ae50900e-ef6a-4ace-95d9-f77a6b9627df"
      },
      "outputs": [],
      "source": [
        "set(data.category)"
      ]
    },
    {
      "cell_type": "code",
      "execution_count": null,
      "metadata": {
        "id": "L-FnMstigj8o"
      },
      "outputs": [],
      "source": [
        "# смотрим распределение категорий\n",
        "def loads_labels(dataset):\n",
        "    labels = []\n",
        "    for i in dataset:\n",
        "        labels.append(i)\n",
        "    counts = Counter(labels)\n",
        "    count_df =  pd.DataFrame([(k, v) for k, v in counts.items()],\n",
        "    columns=['category', 'count'])\n",
        "    return count_df.sort_values(by = 'count', ascending = False)"
      ]
    },
    {
      "cell_type": "code",
      "execution_count": null,
      "metadata": {
        "colab": {
          "base_uri": "https://localhost:8080/",
          "height": 332
        },
        "id": "Ki-8PfeaYNgG",
        "outputId": "351842ef-0aea-4e97-a233-3e849b08eaef"
      },
      "outputs": [],
      "source": [
        "df = loads_labels(train.target.values)\n",
        "df.reset_index()"
      ]
    },
    {
      "cell_type": "code",
      "execution_count": null,
      "metadata": {
        "id": "dZ55hxOgY1xr"
      },
      "outputs": [],
      "source": [
        "df['target'] = df['category'].map({0: 'Россия', 1: 'Экономика', 2 : 'Силовые структуры',\n",
        "                                   3 : 'Бывший СССР', 4 : 'Спорт', 5 : 'Забота о себе', 6 : 'Строительство', 7 : 'Путешествия', 8 : 'Наука и техника'})"
      ]
    },
    {
      "cell_type": "code",
      "execution_count": null,
      "metadata": {
        "colab": {
          "base_uri": "https://localhost:8080/",
          "height": 332
        },
        "id": "FowlLVjjY-vf",
        "outputId": "a70570de-c6f4-43b7-c5eb-276c3923fdfd"
      },
      "outputs": [],
      "source": [
        "df"
      ]
    },
    {
      "cell_type": "code",
      "execution_count": null,
      "metadata": {
        "colab": {
          "base_uri": "https://localhost:8080/",
          "height": 410
        },
        "id": "WD2wyoFBYkrI",
        "outputId": "54c2f2d5-91d9-4b1c-c255-61359541c9b1"
      },
      "outputs": [],
      "source": [
        "ax = df.plot.barh(x='target', y='count', rot=0, figsize = (10,4), title='Распределение - категория / количество',\n",
        "                     xlabel='Количество / категория',\n",
        "                     ylabel='категория')"
      ]
    },
    {
      "cell_type": "code",
      "execution_count": null,
      "metadata": {
        "colab": {
          "base_uri": "https://localhost:8080/",
          "height": 300
        },
        "id": "GA4IhczCgpz5",
        "outputId": "67634171-7db2-4379-ee8f-6e706c7ac982"
      },
      "outputs": [],
      "source": [
        "df = loads_labels(data_t.category.values)\n",
        "df.reset_index()"
      ]
    },
    {
      "cell_type": "markdown",
      "metadata": {
        "id": "HJuRpOP1ZksL"
      },
      "source": [
        "### препроцессинг"
      ]
    },
    {
      "cell_type": "code",
      "execution_count": null,
      "metadata": {
        "id": "ffouC27v9TaU"
      },
      "outputs": [],
      "source": [
        "# кодировка категорий\n",
        "data['target'] = data['category'].map({'Россия': 0, 'Экономика' : 1, 'Силовые структуры' : 2, 'Бывший СССР': 3, 'Спорт' : 4, 'Забота о себе' : 5, 'Путешествия' : 7, 'Наука и техника' : 8})"
      ]
    },
    {
      "cell_type": "code",
      "execution_count": null,
      "metadata": {
        "colab": {
          "base_uri": "https://localhost:8080/",
          "height": 597
        },
        "id": "t8gi267g_aQd",
        "outputId": "0334477d-a5aa-4158-e01a-1d704446320f"
      },
      "outputs": [],
      "source": [
        "data"
      ]
    },
    {
      "cell_type": "code",
      "execution_count": null,
      "metadata": {
        "id": "tqEEXBOB8YzQ"
      },
      "outputs": [],
      "source": [
        "# ! pip install pymorphy2\n",
        "# import pymorphy2\n",
        "# m = pymorphy2.MorphAnalyzer()"
      ]
    },
    {
      "cell_type": "code",
      "execution_count": null,
      "metadata": {
        "id": "PaiLxbfnZo5L"
      },
      "outputs": [],
      "source": [
        "# препроцессинг текста\n",
        "\n",
        "# mystopwords = stopwords.words('russian') + ['фото', 'фонтанка', 'риа', 'ру',\n",
        "#     'это', 'наш' , 'тыс', 'млн', 'млрд', 'также',  'т', 'д',\n",
        "#     'который','прошлый','сей', 'свой', 'наш', 'мочь', 'такой'\n",
        "# ]\n",
        "\n",
        "ru_words = re.compile(\"[а-яА-Я0-9]+\")\n",
        "\n",
        "# lemmatizer = nltk.WordNetLemmatizer()\n",
        "\n",
        "def words_only(text):\n",
        "    return \" \".join(ru_words.findall(text))\n",
        "\n",
        "# лемматизация\n",
        "# def lemmatize(text):\n",
        "#     try:\n",
        "#         # return  \" \".join([m.parse(w)[0].normal_form for w in text.lower().split()])\n",
        "#         return \" \".join([lemmatizer.lemmatize(w) for w in text.lower().split()])\n",
        "#     except:\n",
        "#         return \" \"\n",
        "\n",
        "# удаление стоп-слов и всех пунктац. знаков\n",
        "def remove_stopwords(text):\n",
        "    try:\n",
        "        return \" \".join([token for token in text.split()])\n",
        "    except:\n",
        "        return \"\"\n",
        "\n",
        "\n",
        "def preprocess(text):\n",
        "    return remove_stopwords(words_only(text.lower()))"
      ]
    },
    {
      "cell_type": "code",
      "execution_count": null,
      "metadata": {
        "colab": {
          "base_uri": "https://localhost:8080/"
        },
        "id": "kdAxoOuZAoHC",
        "outputId": "d82a8e09-1f8e-4139-9082-aedd73caf085"
      },
      "outputs": [],
      "source": [
        "data['text_prep'] = data.text.astype('str').progress_apply(preprocess)"
      ]
    },
    {
      "cell_type": "code",
      "execution_count": null,
      "metadata": {
        "colab": {
          "base_uri": "https://localhost:8080/",
          "height": 597
        },
        "id": "STPEKdFNU72b",
        "outputId": "d8f538a9-5bab-4d3c-af61-fb113344959a"
      },
      "outputs": [],
      "source": [
        "data"
      ]
    },
    {
      "cell_type": "code",
      "execution_count": null,
      "metadata": {
        "colab": {
          "base_uri": "https://localhost:8080/",
          "height": 424
        },
        "id": "xFeivyXEVC4y",
        "outputId": "4a7ae3da-ba53-4019-f9cd-f1320d467259"
      },
      "outputs": [],
      "source": [
        "# формирование датафрейма, который будем подавать модели\n",
        "train = pd.DataFrame({'link' : data.link, 'text' : data.text, 'target' : data.target})\n",
        "train"
      ]
    },
    {
      "cell_type": "code",
      "execution_count": null,
      "metadata": {
        "colab": {
          "base_uri": "https://localhost:8080/",
          "height": 424
        },
        "id": "857h-WJka9so",
        "outputId": "07e80106-82d4-4def-c92b-aaeda62b27b2"
      },
      "outputs": [],
      "source": [
        "# соединение датафреймов с ленты и фонтанки\n",
        "train = pd.concat((train, data_fontan), axis = 0 )\n",
        "train"
      ]
    },
    {
      "cell_type": "code",
      "execution_count": null,
      "metadata": {
        "id": "9o4wz1mwbUeh"
      },
      "outputs": [],
      "source": [
        "# перемешивание данных\n",
        "from sklearn.utils import shuffle\n",
        "train = shuffle(train)"
      ]
    },
    {
      "cell_type": "code",
      "execution_count": null,
      "metadata": {
        "colab": {
          "base_uri": "https://localhost:8080/",
          "height": 424
        },
        "id": "0SIFNXbebYik",
        "outputId": "171fa197-d42d-46be-dc05-f898bdc4222f"
      },
      "outputs": [],
      "source": [
        "train"
      ]
    },
    {
      "cell_type": "markdown",
      "metadata": {
        "id": "kmZIWwJjZpW4"
      },
      "source": [
        "### обучение sklearn"
      ]
    },
    {
      "cell_type": "code",
      "execution_count": null,
      "metadata": {
        "colab": {
          "base_uri": "https://localhost:8080/",
          "height": 442
        },
        "id": "8_0W17Gdk9ko",
        "outputId": "535866ff-9ba8-4bc4-85c8-62e44e0884da"
      },
      "outputs": [],
      "source": [
        "# готовим столбец, который будем подавать в модель (text_prep)\n",
        "train['text_prep'] = train.text.astype('str').progress_apply(preprocess)\n",
        "train"
      ]
    },
    {
      "cell_type": "code",
      "execution_count": null,
      "metadata": {
        "id": "loE1B6e9ZtqZ"
      },
      "outputs": [],
      "source": [
        "# делим на выборки для обучения\n",
        "y = train.target\n",
        "X_train, X_val, y_train, y_val = train_test_split(train.text_prep, y, test_size=0.2, random_state=42)\n",
        "\n",
        "# tfidf = TfidfVectorizer(min_df=6, max_df=1.0, ngram_range=(1, 1))\n",
        "# tfidf = TfidfVectorizer(min_df=3, max_df=0.5, ngram_range=(1, 1))\n",
        "tfidf = TfidfVectorizer(min_df=5, max_df=0.2, ngram_range=(1, 2))\n",
        "\n",
        "X_train = tfidf.fit_transform(X_train)\n",
        "X_val = tfidf.transform(X_val)\n",
        "\n",
        "# Нормализация матрицы TF-IDF по длине документа\n",
        "X_train = normalize(X_train, norm='l2', axis=1)\n",
        "X_val = normalize(X_val, norm='l2', axis=1)"
      ]
    },
    {
      "cell_type": "code",
      "execution_count": null,
      "metadata": {
        "colab": {
          "base_uri": "https://localhost:8080/"
        },
        "id": "3B3qouCEInH9",
        "outputId": "21c3c05b-2e9f-4b25-ac6a-5eb801006999"
      },
      "outputs": [],
      "source": [
        "print ((X_train.shape),(y_train.shape),(X_val.shape),(y_val.shape))"
      ]
    },
    {
      "cell_type": "code",
      "execution_count": null,
      "metadata": {
        "id": "xuyRTYJTMYyH"
      },
      "outputs": [],
      "source": [
        "# sc = StandardScaler()\n",
        "# X_tr = sc.fit_transform(X_train)\n",
        "# X_te = sc.transform(X_test)"
      ]
    },
    {
      "cell_type": "code",
      "execution_count": null,
      "metadata": {
        "id": "mAIbiBnVFAzs"
      },
      "outputs": [],
      "source": [
        "models = [\n",
        "    RandomForestClassifier(n_estimators=100, random_state = 42),\n",
        "    LogisticRegression(C = 10, max_iter = 100, class_weight='balanced', random_state = 42),\n",
        "    SGDClassifier(alpha=0.001, loss='log_loss', tol = 0.0004, epsilon=0.01, max_iter=10, class_weight='balanced', learning_rate = 'optimal', shuffle = False, random_state=42),\n",
        "    SVC(kernel = 'linear', gamma = 'scale', class_weight='balanced', random_state = 42),\n",
        "    XGBClassifier(n_estimators = 200, max_depth = 2, nthread = 8, learning_rate = 0.2)\n",
        "    ]"
      ]
    },
    {
      "cell_type": "code",
      "execution_count": null,
      "metadata": {
        "id": "xSvg8gOGFMzG"
      },
      "outputs": [],
      "source": [
        "# функция для обучения нескольких моделей с сохранением результата в датафрейм\n",
        "def train_regress(models):\n",
        "\n",
        "    score = {}\n",
        "    for model in models:\n",
        "        score_a_p = []\n",
        "\n",
        "        model.fit(X_train, y_train)\n",
        "        pred = model.predict(X_val)\n",
        "        predictions = [round(el) for el in pred]\n",
        "        accuracy = accuracy_score(y_val, predictions)\n",
        "        precision = precision_score(y_val, pred, average='weighted')\n",
        "        name = re.findall(r'\\w+\\(', str(model))\n",
        "        name = str(name[0].split('(')[0])\n",
        "        score_a_p.append(accuracy)\n",
        "        score_a_p.append(precision)\n",
        "        score[name] = score_a_p\n",
        "\n",
        "    result = pd.DataFrame.from_dict(score, orient='index').reset_index()\n",
        "    result['model'] = result['index']\n",
        "    result['accuracy'] = result[0]\n",
        "    result['precision'] = result[1]\n",
        "    result = result.drop(columns=[0, 1, 'index'])\n",
        "    result = result.sort_values(by = ['accuracy'], ascending = False)\n",
        "    result\n",
        "\n",
        "    return result"
      ]
    },
    {
      "cell_type": "code",
      "execution_count": null,
      "metadata": {
        "id": "mWae8IuEFSF3"
      },
      "outputs": [],
      "source": [
        "df_res = train_regress(models)"
      ]
    },
    {
      "cell_type": "code",
      "execution_count": null,
      "metadata": {
        "colab": {
          "base_uri": "https://localhost:8080/",
          "height": 238
        },
        "id": "Tx8PGhcxFnzb",
        "outputId": "5bd594e0-f84c-413c-d737-7f85de7a36ef"
      },
      "outputs": [],
      "source": [
        "df_res"
      ]
    },
    {
      "cell_type": "code",
      "execution_count": null,
      "metadata": {
        "id": "ZykerJPaM3LA"
      },
      "outputs": [],
      "source": [
        "# пайплан бэйзлайна\n",
        "\n",
        "# from sklearn.feature_extraction.text import CountVectorizer\n",
        "# from sklearn.preprocessing import MaxAbsScaler\n",
        "# from sklearn.linear_model import LogisticRegression\n",
        "# from sklearn.metrics import classification_report\n",
        "\n",
        "# y = train.target\n",
        "# X_train, X_val, y_train, y_val = train_test_split(train.text_prep, y, test_size=0.2, random_state=42)\n",
        "\n",
        "# # vec = CountVectorizer()\n",
        "# vec = CountVectorizer(max_df=0.8, min_df=1.0, max_features = 5000)\n",
        "\n",
        "# vec.fit(X_train)\n",
        "\n",
        "# bow = vec.transform(X_train)  # bow — bag of words (мешок слов)\n",
        "# bow_test = vec.transform(X_val)\n",
        "\n",
        "# print(bow.shape)\n",
        "\n",
        "# scaler = MaxAbsScaler()\n",
        "# bow = scaler.fit_transform(bow)\n",
        "# bow_test = scaler.transform(bow_test)\n",
        "\n",
        "# clf = LogisticRegression(max_iter=200, random_state=42)\n",
        "# clf.fit(bow, y_train)\n",
        "# pred = clf.predict(bow_test)\n",
        "\n",
        "# print(classification_report(y_val, pred))"
      ]
    },
    {
      "cell_type": "code",
      "execution_count": null,
      "metadata": {
        "colab": {
          "base_uri": "https://localhost:8080/"
        },
        "id": "rNsLb2BGFs3d",
        "outputId": "83ea1089-cea1-4736-a82d-314fe124281c"
      },
      "outputs": [],
      "source": [
        "lr_clf = LogisticRegression(C = 10, max_iter = 400, class_weight='balanced',  random_state = 42)\n",
        "lr_clf.fit(X_train, y_train)\n",
        "\n",
        "lr_train_pred = lr_clf.predict(X_train)\n",
        "lr_val_pred = lr_clf.predict(X_val)\n",
        "\n",
        "accuracy_score(y_train, lr_train_pred), accuracy_score(y_val, lr_val_pred)"
      ]
    },
    {
      "cell_type": "code",
      "execution_count": null,
      "metadata": {
        "colab": {
          "base_uri": "https://localhost:8080/"
        },
        "id": "KQWbT9LZkKVz",
        "outputId": "15fda5ae-f49c-44ac-f1a4-56122307a066"
      },
      "outputs": [],
      "source": [
        "# sgd_clf = SGDClassifier(loss='log_loss', max_iter=3000, epsilon=0.01, class_weight='balanced', random_state=42)\n",
        "sgd_clf = SGDClassifier(loss = 'modified_huber', max_iter=5000, class_weight='balanced', random_state=42)\n",
        "\n",
        "# epsilon=0.01, max_iter=3000\n",
        "\n",
        "sgd_clf.fit(X_train, y_train)\n",
        "\n",
        "sgd_clf_train_pred = sgd_clf.predict(X_train)\n",
        "sgd_clf_val_pred = sgd_clf.predict(X_val)\n",
        "\n",
        "accuracy_score(y_train, sgd_clf_train_pred), accuracy_score(y_val, sgd_clf_val_pred)"
      ]
    },
    {
      "cell_type": "code",
      "execution_count": null,
      "metadata": {
        "colab": {
          "base_uri": "https://localhost:8080/"
        },
        "id": "TMsTsMRbeLgT",
        "outputId": "af4b7455-45a9-4096-c82c-464a607db4f8"
      },
      "outputs": [],
      "source": [
        "xgb = XGBClassifier(n_estimators = 200, max_depth = 2, nthread = 8, learning_rate = 0.2)\n",
        "xgb.fit(X_train, y_train)\n",
        "\n",
        "xgb_train_pred = xgb.predict(X_train)\n",
        "xgb_val_pred = xgb.predict(X_val)\n",
        "\n",
        "accuracy_score(y_train, xgb_train_pred), accuracy_score(y_val, xgb_val_pred)\n"
      ]
    },
    {
      "cell_type": "code",
      "execution_count": null,
      "metadata": {
        "colab": {
          "base_uri": "https://localhost:8080/"
        },
        "id": "HjpChiXCOrA4",
        "outputId": "0af4b086-fd19-4ecb-baa8-1592b20e0e98"
      },
      "outputs": [],
      "source": [
        "rf_clf = RandomForestClassifier(n_estimators=500,  random_state = 42)\n",
        "\n",
        "rf_clf.fit(X_train, y_train)\n",
        "\n",
        "rf_train_pred = rf_clf.predict(X_train)\n",
        "rf_val_pred = rf_clf.predict(X_val)\n",
        "\n",
        "accuracy_score(y_train, rf_train_pred), accuracy_score(y_val, rf_val_pred)\n"
      ]
    },
    {
      "cell_type": "markdown",
      "metadata": {
        "id": "cQAXftyVFlz1"
      },
      "source": [
        "### stacking"
      ]
    },
    {
      "cell_type": "code",
      "execution_count": null,
      "metadata": {
        "id": "W5Ic6XFbNbRd"
      },
      "outputs": [],
      "source": [
        "models = [\n",
        "    RandomForestClassifier(n_estimators=100, random_state = 42),\n",
        "    LogisticRegression(C = 10, max_iter = 100, class_weight='balanced', random_state = 42),\n",
        "    # DummyClassifier(strategy=\"prior\", random_state = 42),\n",
        "    SGDClassifier(alpha=0.001, loss='log_loss', tol = 0.0004, epsilon=0.01, max_iter=10, class_weight='balanced', learning_rate = 'optimal', shuffle = False, random_state=42),\n",
        "    SVC(kernel = 'linear', gamma = 'scale', class_weight='balanced', random_state = 42),\n",
        "    XGBClassifier(n_estimators = 200, max_depth = 2, nthread = 8, learning_rate = 0.2)\n",
        "    ]"
      ]
    },
    {
      "cell_type": "code",
      "execution_count": null,
      "metadata": {
        "id": "aFnidh3hj613"
      },
      "outputs": [],
      "source": [
        "# model_svc = SVC(kernel = 'linear', gamma = 'scale')\n",
        "# model_rfc = RandomForestClassifier(criterion = 'gini', n_estimators = 100, min_samples_split = 7, min_samples_leaf= 2, max_features = 'sqrt', max_depth= 5, bootstrap=True, random_state=42)\n",
        "# model_logr = LogisticRegression(penalty = 'l2', C = 10, multi_class = 'multinomial', max_iter = 5000, solver = 'newton-cg')\n",
        "# # model_gbr = GradientBoostingRegressor(n_estimators = 100, max_depth = 10 , learning_rate = 0.04, min_samples_leaf = 15, random_state=42)\n",
        "# model_ridge = Ridge(alpha = 0.43206891751952314)\n",
        "# # model_ridge = Ridge()\n",
        "\n",
        "# # model.fit(X_train, y_train)"
      ]
    },
    {
      "cell_type": "code",
      "execution_count": null,
      "metadata": {
        "id": "fw_AyICEVDyy"
      },
      "outputs": [],
      "source": [
        "# Создаем стэккинг и обучаем его на наших данных\n",
        "stacking = StackingClassifier(\n",
        "    [   ('LogisticRegression', models[1]),\n",
        "        ('RandomForestClassifier', models[0]),\n",
        "        ('SGD', models[2]),\n",
        "        ('SVC', models[3]),\n",
        "        ('XGB', models[4]),\n",
        "    ])"
      ]
    },
    {
      "cell_type": "code",
      "execution_count": null,
      "metadata": {
        "id": "xSfam4K8U8JO"
      },
      "outputs": [],
      "source": [
        "model_st = stacking.fit(X_train, y_train)\n",
        "# model = stacking.fit(X_poly,y_train)\n"
      ]
    },
    {
      "cell_type": "code",
      "execution_count": null,
      "metadata": {
        "colab": {
          "base_uri": "https://localhost:8080/"
        },
        "id": "9uaxrjUQNfhj",
        "outputId": "35045d51-f413-4335-ad9f-ed294d7e7515"
      },
      "outputs": [],
      "source": [
        "train_accuracy_score=model_st.score(X_train,y_train)\n",
        "print(train_accuracy_score)\n",
        "\n",
        "test_accuracy_score=model_st.score(X_val,y_val)\n",
        "print(test_accuracy_score)"
      ]
    },
    {
      "cell_type": "code",
      "execution_count": null,
      "metadata": {
        "colab": {
          "base_uri": "https://localhost:8080/"
        },
        "id": "HWDDMpsYLqty",
        "outputId": "ac34e7b8-4876-4ffd-a844-28cc7ce1d2d2"
      },
      "outputs": [],
      "source": [
        "# ridge = RidgeCV(cv=3)\n",
        "# ridge.fit(X_train, y_train)\n",
        "# ridge_train_pred = ridge.predict(X_train)\n",
        "# predictions_train = [round(el) for el in ridge_train_pred]\n",
        "\n",
        "# ridge_val_pred = ridge.predict(X_val)\n",
        "# predictions_val = [round(el) for el in ridge_val_pred]\n",
        "\n",
        "# accuracy_score(y_train, predictions_train), accuracy_score(y_val, predictions_val)"
      ]
    },
    {
      "cell_type": "markdown",
      "metadata": {
        "id": "ITDh8l3SDqqG"
      },
      "source": [
        "### Word2Vec"
      ]
    },
    {
      "cell_type": "code",
      "execution_count": null,
      "metadata": {
        "id": "js0AudAsDyGH"
      },
      "outputs": [],
      "source": [
        "# токенизация\n",
        "repliks = []\n",
        "for el in train.text_prep:\n",
        "    sentences = nltk.sent_tokenize(el, language=\"russian\")\n",
        "    for sentence in sentences:\n",
        "        tokens = nltk.word_tokenize(sentence)\n",
        "        repliks.append(tokens)"
      ]
    },
    {
      "cell_type": "code",
      "execution_count": null,
      "metadata": {
        "colab": {
          "base_uri": "https://localhost:8080/"
        },
        "id": "zKgygiceD_Li",
        "outputId": "1f7a2351-f59d-4c1b-bc1e-f84ccc107abc"
      },
      "outputs": [],
      "source": [
        "%time  model_w2v = Word2Vec(repliks, workers=4, vector_size=300, min_count=5, window=10)\n",
        "model_w2v.build_vocab(repliks) # построение словаря\n",
        "model_w2v.train(repliks, total_examples=model_w2v.corpus_count, epochs=model_w2v.epochs)"
      ]
    },
    {
      "cell_type": "code",
      "execution_count": null,
      "metadata": {
        "colab": {
          "base_uri": "https://localhost:8080/"
        },
        "id": "inkmQpTYOC-N",
        "outputId": "ffe066b3-dab6-474a-d839-b12da8d8bbd6"
      },
      "outputs": [],
      "source": [
        "vocab_len = len(model_w2v.wv) # длина словаря\n",
        "vocab_len"
      ]
    },
    {
      "cell_type": "code",
      "execution_count": null,
      "metadata": {
        "colab": {
          "base_uri": "https://localhost:8080/"
        },
        "id": "RwL_JmU0EOca",
        "outputId": "2f07594f-a5ed-4919-9260-ee7915fbda03"
      },
      "outputs": [],
      "source": [
        "# вывод близких слов\n",
        "model_w2v.wv.most_similar(positive=[\"ехать\"], topn=5)"
      ]
    },
    {
      "cell_type": "code",
      "execution_count": null,
      "metadata": {
        "id": "BwESGUdUEO4t"
      },
      "outputs": [],
      "source": [
        "# создание эмбеддингов\n",
        "def get_text_embedding(text):\n",
        "    result = []\n",
        "    for word in word_tokenize(text.lower()):\n",
        "        if word in model_w2v.wv:\n",
        "            result.append(model_w2v.wv[word])\n",
        "\n",
        "    if len(result):\n",
        "        result = np.average(result, axis=0)\n",
        "    else:\n",
        "        result = np.zeros(300)\n",
        "    return result\n"
      ]
    },
    {
      "cell_type": "code",
      "execution_count": null,
      "metadata": {
        "colab": {
          "base_uri": "https://localhost:8080/"
        },
        "id": "mX4CZb6DEVHD",
        "outputId": "03bbbf5e-afbd-4865-ef0c-89104cf5b9db"
      },
      "outputs": [],
      "source": [
        "features = [get_text_embedding(text) for text in tqdm(train.text_prep.values)]\n"
      ]
    },
    {
      "cell_type": "code",
      "execution_count": null,
      "metadata": {
        "colab": {
          "base_uri": "https://localhost:8080/"
        },
        "id": "ZGbHBxzOxLj2",
        "outputId": "2184ed8a-49d2-4812-99ff-bcde103d52d8"
      },
      "outputs": [],
      "source": [
        "len(features)"
      ]
    },
    {
      "cell_type": "code",
      "execution_count": null,
      "metadata": {
        "colab": {
          "base_uri": "https://localhost:8080/"
        },
        "id": "6mZGjUzGw-lb",
        "outputId": "bfbadb24-7b9c-4eb7-ba79-3841f93f2146"
      },
      "outputs": [],
      "source": [
        "len(features[0])"
      ]
    },
    {
      "cell_type": "code",
      "execution_count": null,
      "metadata": {
        "colab": {
          "base_uri": "https://localhost:8080/"
        },
        "id": "drlE-ZA6EYng",
        "outputId": "496d6362-5457-44d1-fcc1-e994c2a177f0"
      },
      "outputs": [],
      "source": [
        "X_train, X_val, y_train, y_val = train_test_split(features, train.target.values, test_size=0.20, random_state=42)\n",
        "print (' train:', len(X_train), len(y_train), '\\n', 'test:', len(X_val),len(y_val))"
      ]
    },
    {
      "cell_type": "code",
      "execution_count": null,
      "metadata": {
        "id": "0svuje7gQg7R"
      },
      "outputs": [],
      "source": [
        "# sc = MinMaxScaler()\n",
        "# X_train = sc.fit_transform(X_train)\n",
        "# X_test = sc.transform(X_val)"
      ]
    },
    {
      "cell_type": "code",
      "execution_count": null,
      "metadata": {
        "id": "vfsON-ixP7ao"
      },
      "outputs": [],
      "source": [
        "df_res_w2v = train_regress(models)"
      ]
    },
    {
      "cell_type": "code",
      "execution_count": null,
      "metadata": {
        "colab": {
          "base_uri": "https://localhost:8080/",
          "height": 238
        },
        "id": "urjYbYI6TknF",
        "outputId": "2ad6b154-2dc0-460e-e99e-d222f261cc0b"
      },
      "outputs": [],
      "source": [
        "df_res_w2v"
      ]
    },
    {
      "cell_type": "code",
      "execution_count": null,
      "metadata": {
        "colab": {
          "base_uri": "https://localhost:8080/"
        },
        "id": "i0romqYKIZVn",
        "outputId": "c68a4d19-86e9-4e77-9e7e-0b0b62743995"
      },
      "outputs": [],
      "source": [
        "sgd_clf = SGDClassifier(loss='log_loss', max_iter=3000, epsilon=0.01, class_weight='balanced', random_state=42)\n",
        "# sgd_clf = SGDClassifier(loss = 'modified_huber', max_iter=3000, epsilon=0.01, class_weight='balanced', random_state=42)\n",
        "# sgd_clf = SGDClassifier(max_iter=2000, epsilon=0.01, class_weight='balanced', random_state=42)\n",
        "\n",
        "\n",
        "# epsilon=0.01, max_iter=3000\n",
        "\n",
        "sgd_clf.fit(X_train, y_train)\n",
        "\n",
        "sgd_clf_train_pred = sgd_clf.predict(X_train)\n",
        "sgd_clf_val_pred = sgd_clf.predict(X_val)\n",
        "\n",
        "accuracy_score(y_train, sgd_clf_train_pred), accuracy_score(y_val, sgd_clf_val_pred)"
      ]
    },
    {
      "cell_type": "code",
      "execution_count": null,
      "metadata": {
        "colab": {
          "base_uri": "https://localhost:8080/"
        },
        "id": "CQvxsTnnTmlX",
        "outputId": "32fdc5cc-b80e-4767-e789-f1a592d72fd7"
      },
      "outputs": [],
      "source": [
        "lr_clf = LogisticRegression(max_iter = 1000, class_weight='balanced', random_state = 42)\n",
        "lr_clf.fit(X_train, y_train)\n",
        "\n",
        "lr_train_pred = lr_clf.predict(X_train)\n",
        "lr_val_pred = lr_clf.predict(X_val)\n",
        "\n",
        "accuracy_score(y_train, lr_train_pred), accuracy_score(y_val, lr_val_pred)\n",
        "\n",
        "\n",
        "# svc_clf = SVC(kernel = 'linear', gamma = 'scale', class_weight='balanced', random_state = 42)\n",
        "# svc_clf.fit(X_train, y_train)\n",
        "\n",
        "# svc_train_pred = svc_clf.predict(X_train)\n",
        "# svc_val_pred = svc_clf.predict(X_val)\n",
        "\n",
        "# accuracy_score(y_train, svc_train_pred), accuracy_score(y_val, svc_val_pred)\n",
        "\n",
        "# (0.9446800182660317, 0.9123402034959561)\n"
      ]
    },
    {
      "cell_type": "code",
      "execution_count": null,
      "metadata": {
        "colab": {
          "base_uri": "https://localhost:8080/"
        },
        "id": "CmnlZaMkNuYb",
        "outputId": "16274392-632c-4321-9b6d-b695e54455b4"
      },
      "outputs": [],
      "source": [
        "svc_clf = SVC(kernel = 'linear', gamma = 'scale', class_weight='balanced', random_state = 42)\n",
        "svc_clf.fit(X_train, y_train)\n",
        "\n",
        "svc_train_pred = svc_clf.predict(X_train)\n",
        "svc_val_pred = svc_clf.predict(X_val)\n",
        "\n",
        "accuracy_score(y_train, svc_train_pred), accuracy_score(y_val, svc_val_pred)\n",
        "\n",
        "# (0.9446800182660317, 0.9123402034959561)"
      ]
    },
    {
      "cell_type": "code",
      "execution_count": null,
      "metadata": {
        "id": "yODZnm93bb_R"
      },
      "outputs": [],
      "source": [
        "svc_clf = RandomForestClassifier(n_estimators=100, random_state = 42)\n",
        "\n",
        "svc_clf.fit(X_train, y_train)\n",
        "\n",
        "svc_train_pred = svc_clf.predict(X_train)\n",
        "svc_val_pred = svc_clf.predict(X_val)\n",
        "\n",
        "accuracy_score(y_train, svc_train_pred), accuracy_score(y_val, svc_val_pred)\n"
      ]
    },
    {
      "cell_type": "code",
      "execution_count": null,
      "metadata": {
        "colab": {
          "base_uri": "https://localhost:8080/",
          "height": 75
        },
        "id": "HS3RCgF8WZRw",
        "outputId": "d85443f1-a82e-4925-9031-89069ba95973"
      },
      "outputs": [],
      "source": [
        "svc_clf.fit(features, y)"
      ]
    },
    {
      "cell_type": "code",
      "execution_count": null,
      "metadata": {
        "colab": {
          "base_uri": "https://localhost:8080/"
        },
        "id": "x2qioN4jk7Uz",
        "outputId": "128cfcb6-739f-469f-8fcc-b314a14f0c5b"
      },
      "outputs": [],
      "source": [
        "svc_train_pred = svc_clf.predict(features)\n",
        "accuracy_score(y, svc_train_pred)\n"
      ]
    },
    {
      "cell_type": "code",
      "execution_count": null,
      "metadata": {
        "colab": {
          "base_uri": "https://localhost:8080/"
        },
        "id": "5S61hQMwnEZH",
        "outputId": "e3fa91ce-c6ef-455a-f862-b542b95ddc18"
      },
      "outputs": [],
      "source": [
        "svc_train_pred"
      ]
    },
    {
      "cell_type": "markdown",
      "metadata": {
        "id": "uxeehYlkTryB"
      },
      "source": [
        "### bert"
      ]
    },
    {
      "cell_type": "code",
      "execution_count": null,
      "metadata": {
        "colab": {
          "base_uri": "https://localhost:8080/"
        },
        "id": "oYsV4H8fCpZ-",
        "outputId": "a3dad87f-2098-4ffe-d87b-f0dd3ad962e1"
      },
      "outputs": [],
      "source": [
        "import torch\n",
        "\n",
        "if torch.cuda.is_available():\n",
        "    device = torch.device(\"cuda\")\n",
        "    print('There are %d GPU(s) available.' % torch.cuda.device_count())\n",
        "    print('We will use the GPU:', torch.cuda.get_device_name(0))\n",
        "else:\n",
        "    print('No GPU available, using the CPU instead.')\n",
        "    device = torch.device(\"cpu\")\n",
        "device"
      ]
    },
    {
      "cell_type": "code",
      "execution_count": null,
      "metadata": {
        "colab": {
          "base_uri": "https://localhost:8080/"
        },
        "id": "0NmMdkZO8R6q",
        "outputId": "8fdd97f4-ed02-44f3-a14f-3ef857d62486"
      },
      "outputs": [],
      "source": [
        "!pip install transformers"
      ]
    },
    {
      "cell_type": "code",
      "execution_count": null,
      "metadata": {
        "id": "GuE5BqICAne2"
      },
      "outputs": [],
      "source": [
        "sentences = train_df.text_prep.values\n",
        "labels = train_df.category.values"
      ]
    },
    {
      "cell_type": "code",
      "execution_count": null,
      "metadata": {
        "colab": {
          "base_uri": "https://localhost:8080/",
          "height": 163,
          "referenced_widgets": [
            "8391602bb56c4d95af66e2bd33aafef2",
            "2172bd0ed4b1490d82a0a48c8136fd14",
            "2257ab73ffcb4711974a5505ca01c987",
            "39b1e9c0cbc744a99f99b111e2ff35a3",
            "bd37982ce17d4eb592f54edfb8280553",
            "8ce9d243cc874ce89a08d57c1aa3745e",
            "ac42bbfa47fb457ca4afdf05f56aef72",
            "aff7dd3067bd4a94935b002bb50d19da",
            "7c54adb1d04041dfaf71589e7a70f8c8",
            "206c79ad66044f9ca8eb90821927a6f6",
            "e249fbf5b7f24a9fbd5ce7751246f4b9",
            "6194d8a466e2435d869a86b6d38158ca",
            "1016c1b0175a46b5b3d8c991669de47d",
            "8586e6da2c904a36893ee626bf1e923b",
            "3f5b1200bd224369a7b9276133fd8e87",
            "d1598bd8886f4b7e9459faf85626622f",
            "a9fd9ec71f7d4bc29e6c86a58c7de174",
            "c8c609a044e24f9d833a2c89b58b8952",
            "c7b9bf8b91c14fd7be9bdf7ab5db44ed",
            "5a3b9e7c361f4d33a239bd379aed490a",
            "25ba9148f6e441f89fc91e7e7c1d2688",
            "360ebbc5e4344e66bc39fc3566cbe085",
            "b47222f886b34567968272152187cf8a",
            "28faa655702b40e5bc820757975b90e2",
            "08488a0754f747f4a48694d00e4238fc",
            "12221c4734cf469a889b03c4012ff3e1",
            "6aa3880fba9d47c094aa63301a1f87fd",
            "eee69ef759654245b222587a44aaba68",
            "20c6542337754f46bdd792c190ef447b",
            "60e2eb56b16a4b7998fb6fa8ee93469f",
            "0da1ccc7800c497c9fc043104ed55466",
            "94522787c9c34ac58052d4947f610dd8",
            "a77f749b00a544689e631dbea187d597",
            "5a1edd05a0634529b6bf3bc56313e79d",
            "2bb652bff725425a8a25560c9f692ac2",
            "7f1bfcb7b59e4a68b02f4bc0c6128bc4",
            "d4f0246b908743429b2b864d6f885bcd",
            "93ef7787af8f455e90fa06188665b644",
            "1690199198064704a7b05bd197882d63",
            "a00fb762d54a4cb8a26b9bf84b8789fb",
            "a6149b4f8cc04d38b0abce289e447c27",
            "b7df3853794043fab649e8c9b6b7bdb3",
            "cf5d41d031764defb85e51ddeecd6f68",
            "d5b13ec83cbb41c3930259083097d693"
          ]
        },
        "id": "Z474sSC6oe7A",
        "outputId": "7cc3e7fa-0eb7-444e-d5ca-305387a18732"
      },
      "outputs": [],
      "source": [
        "# токенезация\n",
        "from transformers import BertTokenizer,AutoTokenizer, AutoModelForMaskedLM,AutoModelForSequenceClassification\n",
        "from transformers import DebertaTokenizer\n",
        "from transformers import RobertaTokenizer, RobertaForSequenceClassification\n",
        "print('Loading BERT tokenizer...')\n",
        "# tokenizer = BertTokenizer.from_pretrained('bert-base-uncased', do_lower_case=True)\n",
        "\n",
        "# tokenizer = AutoTokenizer.from_pretrained(\"cointegrated/rubert-tiny2\", do_lower_case=True)\n",
        "tokenizer = AutoTokenizer.from_pretrained(\"DeepPavlov/rubert-base-cased\", do_lower_case=True)\n",
        "\n",
        "\n",
        "# model = AutoModel.from_pretrained(\"cointegrated/rubert-tiny2\")\n",
        "\n",
        "# tokenizer = AutoTokenizer.from_pretrained('distilroberta-base', do_lower_case=True)\n",
        "# tokenizer = AutoTokenizer.from_pretrained('roberta-large', do_lower_case=True)"
      ]
    },
    {
      "cell_type": "code",
      "execution_count": null,
      "metadata": {
        "colab": {
          "base_uri": "https://localhost:8080/"
        },
        "id": "dLIbudgfh6F0",
        "outputId": "ba6e0eb8-2f77-477c-bcba-05f5a9b751a4"
      },
      "outputs": [],
      "source": [
        "print(' Original: ', sentences[0])\n",
        "print('Tokenized: ', tokenizer.tokenize(sentences[0]))\n",
        "print('Token IDs: ', tokenizer.convert_tokens_to_ids(tokenizer.tokenize(sentences[0])))"
      ]
    },
    {
      "cell_type": "code",
      "execution_count": null,
      "metadata": {
        "colab": {
          "base_uri": "https://localhost:8080/"
        },
        "id": "2bBdb3pt8LuQ",
        "outputId": "c56d49c9-2dbe-48e8-ebc8-8b7fadd1a8c5"
      },
      "outputs": [],
      "source": [
        "input_ids = []\n",
        "attention_masks = []\n",
        "\n",
        "for sent in sentences:\n",
        "    encoded_dict = tokenizer.encode_plus(\n",
        "                        sent,\n",
        "                        add_special_tokens = True,\n",
        "                        max_length = 256,\n",
        "                        truncation = True,\n",
        "                        pad_to_max_length = True,\n",
        "                        return_attention_mask = True,\n",
        "                        return_tensors = 'pt',\n",
        "                   )\n",
        "\n",
        "    input_ids.append(encoded_dict['input_ids'])\n",
        "\n",
        "    attention_masks.append(encoded_dict['attention_mask'])\n",
        "\n",
        "input_ids = torch.cat(input_ids, dim=0)\n",
        "attention_masks = torch.cat(attention_masks, dim=0)\n",
        "labels = torch.tensor(labels)\n",
        "\n",
        "print('Original: ', sentences[0])\n",
        "print('Token IDs:', input_ids[0])"
      ]
    },
    {
      "cell_type": "code",
      "execution_count": null,
      "metadata": {
        "colab": {
          "base_uri": "https://localhost:8080/"
        },
        "id": "GEgLpFVlo1Z-",
        "outputId": "5462eca8-f8f1-4115-86dc-89a5e545b49b"
      },
      "outputs": [],
      "source": [
        "from torch.utils.data import TensorDataset, random_split\n",
        "\n",
        "dataset = TensorDataset(input_ids, attention_masks, labels)\n",
        "\n",
        "train_size = int(0.9 * len(dataset))\n",
        "val_size = len(dataset) - train_size\n",
        "\n",
        "train_dataset, val_dataset = random_split(dataset, [train_size, val_size])\n",
        "\n",
        "print('{:>5,} training samples'.format(train_size))\n",
        "print('{:>5,} validation samples'.format(val_size))"
      ]
    },
    {
      "cell_type": "code",
      "execution_count": null,
      "metadata": {
        "colab": {
          "base_uri": "https://localhost:8080/"
        },
        "id": "zfXsE34i0W9p",
        "outputId": "8f1be981-ec01-4436-bab5-596ce0b48bb2"
      },
      "outputs": [],
      "source": [
        "labels.shape"
      ]
    },
    {
      "cell_type": "code",
      "execution_count": null,
      "metadata": {
        "id": "XGUqOCtgqGhP"
      },
      "outputs": [],
      "source": [
        "from torch.utils.data import DataLoader, RandomSampler, SequentialSampler\n",
        "\n",
        "batch_size = 16\n",
        "\n",
        "train_dataloader = DataLoader(\n",
        "            train_dataset,\n",
        "            sampler = RandomSampler(train_dataset),\n",
        "            batch_size = batch_size\n",
        "        )\n",
        "\n",
        "\n",
        "validation_dataloader = DataLoader(\n",
        "            val_dataset,\n",
        "            sampler = SequentialSampler(val_dataset),\n",
        "            batch_size = batch_size\n",
        "        )"
      ]
    },
    {
      "cell_type": "code",
      "execution_count": null,
      "metadata": {
        "colab": {
          "base_uri": "https://localhost:8080/",
          "height": 888,
          "referenced_widgets": [
            "d879765c76a1445a94e46209fbc3ad6f",
            "4771999a7daa4372b95350861a2c3a10",
            "08dfe898a1f74cf7a86ea90b0f0423f4",
            "cbe63e622bf242898bd949f62260ea50",
            "b7151b0bce3646c2a66bb320c680f89b",
            "7fa6a2b94416412abd6d855fa12273c9",
            "9b18fdf6220846a4b0d7cd4b8b53bb8a",
            "abb4303c645c42128a258c2be0764f0e",
            "154c901fc2e84c039dc0d0ab6fe4df94",
            "0ada8c039388489d832e0141503d1763",
            "56cdeb33b94b4601a95761251df7191e"
          ]
        },
        "id": "gFsCTp_mporB",
        "outputId": "f5c8bd91-1608-473d-c1df-2b5cde17e972"
      },
      "outputs": [],
      "source": [
        "from transformers import BertForSequenceClassification, AdamW, DebertaForSequenceClassification\n",
        "\n",
        "# model = AutoModel.from_pretrained(\"cointegrated/rubert-tiny2\")\n",
        "\n",
        "model = BertForSequenceClassification.from_pretrained(\n",
        "    # \"bert-base-uncased\",\n",
        "    # \"cointegrated/rubert-tiny2\",\n",
        "    'DeepPavlov/rubert-base-cased',\n",
        "    num_labels = 9,\n",
        "    output_attentions = False,\n",
        "    output_hidden_states = False,\n",
        ")\n",
        "\n",
        "model.cuda()"
      ]
    },
    {
      "cell_type": "code",
      "execution_count": null,
      "metadata": {
        "colab": {
          "base_uri": "https://localhost:8080/"
        },
        "id": "8PIiVlDYCtSq",
        "outputId": "d42fbe7f-73a1-4331-fcc2-99466e35827a"
      },
      "outputs": [],
      "source": [
        "params = list(model.named_parameters())\n",
        "\n",
        "print('The BERT model has {:} different named parameters.\\n'.format(len(params)))\n",
        "\n",
        "print('==== Embedding Layer ====\\n')\n",
        "\n",
        "for p in params[0:5]:\n",
        "    print(\"{:<55} {:>12}\".format(p[0], str(tuple(p[1].size()))))\n",
        "\n",
        "print('\\n==== First Transformer ====\\n')\n",
        "\n",
        "for p in params[5:21]:\n",
        "    print(\"{:<55} {:>12}\".format(p[0], str(tuple(p[1].size()))))\n",
        "\n",
        "print('\\n==== Output Layer ====\\n')\n",
        "\n",
        "for p in params[-4:]:\n",
        "    print(\"{:<55} {:>12}\".format(p[0], str(tuple(p[1].size()))))"
      ]
    },
    {
      "cell_type": "code",
      "execution_count": null,
      "metadata": {
        "id": "GLs72DuMODJO"
      },
      "outputs": [],
      "source": [
        "optimizer = AdamW(model.parameters(),\n",
        "                  lr = 2e-5,\n",
        "                  eps = 1e-8\n",
        "                )\n"
      ]
    },
    {
      "cell_type": "code",
      "execution_count": null,
      "metadata": {
        "id": "-p0upAhhRiIx"
      },
      "outputs": [],
      "source": [
        "from transformers import get_linear_schedule_with_warmup\n",
        "\n",
        "epochs = 4\n",
        "\n",
        "total_steps = len(train_dataloader) * epochs\n",
        "\n",
        "scheduler = get_linear_schedule_with_warmup(optimizer,\n",
        "                                            num_warmup_steps = 0,\n",
        "                                            num_training_steps = total_steps)"
      ]
    },
    {
      "cell_type": "code",
      "execution_count": null,
      "metadata": {
        "id": "9cQNvaZ9bnyy"
      },
      "outputs": [],
      "source": [
        "def flat_accuracy(preds, labels):\n",
        "    pred_flat = np.argmax(preds, axis=1).flatten()\n",
        "    labels_flat = labels.flatten()\n",
        "    return np.sum(pred_flat == labels_flat) / len(labels_flat)"
      ]
    },
    {
      "cell_type": "code",
      "execution_count": null,
      "metadata": {
        "id": "gpt6tR83keZD"
      },
      "outputs": [],
      "source": [
        "import time\n",
        "import datetime\n",
        "\n",
        "def format_time(elapsed):\n",
        "    elapsed_rounded = int(round((elapsed)))\n",
        "    return str(datetime.timedelta(seconds=elapsed_rounded))"
      ]
    },
    {
      "cell_type": "code",
      "execution_count": null,
      "metadata": {
        "colab": {
          "base_uri": "https://localhost:8080/"
        },
        "id": "6J-FYdx6nFE_",
        "outputId": "7a50e17d-7ed4-44d4-fc7b-633ff6a111c8"
      },
      "outputs": [],
      "source": [
        "import random\n",
        "\n",
        "seed_val = 42\n",
        "\n",
        "random.seed(seed_val)\n",
        "np.random.seed(seed_val)\n",
        "torch.manual_seed(seed_val)\n",
        "torch.cuda.manual_seed_all(seed_val)\n",
        "\n",
        "training_stats = []\n",
        "\n",
        "total_t0 = time.time()\n",
        "\n",
        "for epoch_i in range(0, epochs):\n",
        "\n",
        "    print(\"\")\n",
        "    print('======== Epoch {:} / {:} ========'.format(epoch_i + 1, epochs))\n",
        "    print('Training...')\n",
        "\n",
        "    t0 = time.time()\n",
        "    total_train_loss = 0\n",
        "    model.train()\n",
        "\n",
        "    for step, batch in enumerate(train_dataloader):\n",
        "        if step % 40 == 0 and not step == 0:\n",
        "            elapsed = format_time(time.time() - t0)\n",
        "            print('  Batch {:>5,}  of  {:>5,}.    Elapsed: {:}.'.format(step, len(train_dataloader), elapsed))\n",
        "\n",
        "        b_input_ids = batch[0].to(device)\n",
        "        b_input_mask = batch[1].to(device)\n",
        "        b_labels = batch[2].to(device)\n",
        "        model.zero_grad()\n",
        "\n",
        "        res = model(b_input_ids,\n",
        "                             token_type_ids=None,\n",
        "                             attention_mask=b_input_mask,\n",
        "                             labels=b_labels)\n",
        "        loss = res['loss']\n",
        "        logits = res['logits']\n",
        "        total_train_loss += loss.item()\n",
        "        loss.backward()\n",
        "        torch.nn.utils.clip_grad_norm_(model.parameters(), 1.0)\n",
        "        optimizer.step()\n",
        "        scheduler.step()\n",
        "    avg_train_loss = total_train_loss / len(train_dataloader)\n",
        "    training_time = format_time(time.time() - t0)\n",
        "\n",
        "    print(\"\")\n",
        "    print(\"  Average training loss: {0:.2f}\".format(avg_train_loss))\n",
        "    print(\"  Training epcoh took: {:}\".format(training_time))\n",
        "    print(\"\")\n",
        "    print(\"Running Validation...\")\n",
        "\n",
        "    t0 = time.time()\n",
        "    model.eval()\n",
        "\n",
        "    total_eval_accuracy = 0\n",
        "    total_eval_loss = 0\n",
        "    nb_eval_steps = 0\n",
        "\n",
        "    for batch in validation_dataloader:\n",
        "        b_input_ids = batch[0].to(device)\n",
        "        b_input_mask = batch[1].to(device)\n",
        "        b_labels = batch[2].to(device)\n",
        "        with torch.no_grad():\n",
        "            res = model(b_input_ids,\n",
        "                                   token_type_ids=None,\n",
        "                                   attention_mask=b_input_mask,\n",
        "                                   labels=b_labels)\n",
        "        loss = res['loss']\n",
        "        logits = res['logits']\n",
        "\n",
        "        total_eval_loss += loss.item()\n",
        "\n",
        "        logits = logits.detach().cpu().numpy()\n",
        "        label_ids = b_labels.to('cpu').numpy()\n",
        "\n",
        "        total_eval_accuracy += flat_accuracy(logits, label_ids)\n",
        "\n",
        "    avg_val_accuracy = total_eval_accuracy / len(validation_dataloader)\n",
        "    print(\"  Accuracy: {0:.2f}\".format(avg_val_accuracy))\n",
        "\n",
        "    avg_val_loss = total_eval_loss / len(validation_dataloader)\n",
        "\n",
        "    validation_time = format_time(time.time() - t0)\n",
        "\n",
        "    print(\"  Validation Loss: {0:.2f}\".format(avg_val_loss))\n",
        "    print(\"  Validation took: {:}\".format(validation_time))\n",
        "\n",
        "    training_stats.append(\n",
        "        {\n",
        "            'epoch': epoch_i + 1,\n",
        "            'Training Loss': avg_train_loss,\n",
        "            'Valid. Loss': avg_val_loss,\n",
        "            'Valid. Accur.': avg_val_accuracy,\n",
        "            'Training Time': training_time,\n",
        "            'Validation Time': validation_time\n",
        "        }\n",
        "    )\n",
        "\n",
        "print(\"\")\n",
        "print(\"Training complete!\")\n",
        "\n",
        "print(\"Total training took {:} (h:mm:ss)\".format(format_time(time.time()-total_t0)))"
      ]
    },
    {
      "cell_type": "code",
      "execution_count": null,
      "metadata": {
        "id": "6O_NbXFGMukX"
      },
      "outputs": [],
      "source": [
        "pd.options.display.precision\n",
        "df_stats = pd.DataFrame(data=training_stats)\n",
        "df_stats = df_stats.set_index('epoch')\n",
        "df_stats"
      ]
    },
    {
      "cell_type": "code",
      "execution_count": null,
      "metadata": {
        "id": "68xreA9JAmG5"
      },
      "outputs": [],
      "source": [
        "%matplotlib inline\n",
        "import seaborn as sns\n",
        "\n",
        "sns.set(style='darkgrid')\n",
        "sns.set(font_scale=1.5)\n",
        "plt.rcParams[\"figure.figsize\"] = (10,6)\n",
        "plt.plot(df_stats['Training Loss'], 'b-o', label=\"Loss\")\n",
        "plt.plot(df_stats['Valid. Loss'], 'g-o', label=\"Accuracy\")\n",
        "plt.title(\"BERT валидационные метрики\")\n",
        "plt.xlabel(\"Epoch\")\n",
        "plt.ylabel(\"Loss\")\n",
        "plt.legend()\n",
        "plt.xticks([1, 2, 3, 4])\n",
        "\n",
        "plt.show()"
      ]
    },
    {
      "cell_type": "code",
      "execution_count": null,
      "metadata": {
        "id": "xljlFuKD3nJ0"
      },
      "outputs": [],
      "source": [
        "torch.save(model.state_dict(), \"bert_4epoch.pth\")"
      ]
    },
    {
      "cell_type": "code",
      "execution_count": null,
      "metadata": {
        "colab": {
          "base_uri": "https://localhost:8080/",
          "height": 424
        },
        "id": "jh1kBLAJ3_ws",
        "outputId": "93e1600f-ea98-4bc3-9369-b760b365d256"
      },
      "outputs": [],
      "source": [
        "df = test_df\n",
        "df"
      ]
    },
    {
      "cell_type": "code",
      "execution_count": null,
      "metadata": {
        "colab": {
          "base_uri": "https://localhost:8080/"
        },
        "id": "yQV9VNn23zth",
        "outputId": "7936dac0-5140-4253-dfa7-1c6917f62a09"
      },
      "outputs": [],
      "source": [
        "import pandas as pd\n",
        "\n",
        "print('Number of test sentences: {:,}\\n'.format(df.shape[0]))\n",
        "\n",
        "sentences = df.text_prep.values\n",
        "\n",
        "input_ids = []\n",
        "attention_masks = []\n",
        "\n",
        "for sent in sentences:\n",
        "    encoded_dict = tokenizer.encode_plus(\n",
        "                        sent,\n",
        "                        add_special_tokens = True,\n",
        "                        max_length = 300,\n",
        "                        pad_to_max_length = True,\n",
        "                        return_attention_mask = True,\n",
        "                        return_tensors = 'pt',\n",
        "                   )\n",
        "\n",
        "    input_ids.append(encoded_dict['input_ids'])\n",
        "\n",
        "    attention_masks.append(encoded_dict['attention_mask'])\n",
        "\n",
        "input_ids = torch.cat(input_ids, dim=0)\n",
        "attention_masks = torch.cat(attention_masks, dim=0)\n",
        "\n",
        "batch_size = 64\n",
        "\n",
        "prediction_data = TensorDataset(input_ids, attention_masks)\n",
        "prediction_sampler = SequentialSampler(prediction_data)\n",
        "prediction_dataloader = DataLoader(prediction_data, sampler=prediction_sampler, batch_size=batch_size)"
      ]
    },
    {
      "cell_type": "code",
      "execution_count": null,
      "metadata": {
        "colab": {
          "base_uri": "https://localhost:8080/"
        },
        "id": "BnacIc554Nxp",
        "outputId": "0397ff2d-f0c0-4b60-f07b-d93eb041f210"
      },
      "outputs": [],
      "source": [
        "print('Predicting labels for {:,} test sentences...'.format(len(input_ids)))\n",
        "\n",
        "model.eval()\n",
        "\n",
        "predictions , true_labels = [], []\n",
        "for batch in prediction_dataloader:\n",
        "  batch = tuple(t.to(device) for t in batch)\n",
        "  b_input_ids, b_input_mask = batch\n",
        "  with torch.no_grad():\n",
        "      outputs = model(b_input_ids, token_type_ids=None,\n",
        "                      attention_mask=b_input_mask)\n",
        "\n",
        "  logits = outputs[0]\n",
        "  logits = logits.detach().cpu().numpy()\n",
        "#   label_ids = b_labels.to('cpu').numpy()\n",
        "\n",
        "  predictions.append(logits)\n",
        "print('    DONE.')"
      ]
    },
    {
      "cell_type": "code",
      "execution_count": null,
      "metadata": {
        "id": "HEQFRQMb4UGO"
      },
      "outputs": [],
      "source": [
        "flat_predictions = [item for sublist in predictions for item in sublist]\n",
        "flat_predictions = np.argmax(flat_predictions, axis=1).flatten()"
      ]
    },
    {
      "cell_type": "code",
      "execution_count": null,
      "metadata": {
        "colab": {
          "base_uri": "https://localhost:8080/"
        },
        "id": "TD0EGqzT_qX0",
        "outputId": "a6048ec4-80fc-43d3-8dfa-c16312f5dfdc"
      },
      "outputs": [],
      "source": [
        "flat_predictions"
      ]
    },
    {
      "cell_type": "code",
      "execution_count": null,
      "metadata": {
        "id": "UkRB-TKw4aEj"
      },
      "outputs": [],
      "source": [
        "# df[\"groups\"] = flat_predictions\n",
        "# df = df.drop(\"content\", axis=1)\n",
        "# df"
      ]
    },
    {
      "cell_type": "markdown",
      "metadata": {
        "id": "wK6DKKNNGrAB"
      },
      "source": [
        "### обработка тестового датасета"
      ]
    },
    {
      "cell_type": "code",
      "execution_count": null,
      "metadata": {
        "id": "gZV7iyl8EswI"
      },
      "outputs": [],
      "source": [
        "test_data = pd.read_csv('/content/test_news.csv')\n"
      ]
    },
    {
      "cell_type": "code",
      "execution_count": null,
      "metadata": {
        "colab": {
          "base_uri": "https://localhost:8080/",
          "height": 424
        },
        "id": "J09hjd6GG17d",
        "outputId": "83845bc5-f2e1-4dc5-bb2d-8d584c8c6235"
      },
      "outputs": [],
      "source": [
        "# test_data['text_prep'] = test_data.content.astype('str').progress_apply(preprocess)\n",
        "test_data"
      ]
    },
    {
      "cell_type": "code",
      "execution_count": null,
      "metadata": {
        "id": "PCdo0YJ7QNbE"
      },
      "outputs": [],
      "source": [
        "# from sklearn.feature_extraction.text import CountVectorizer\n",
        "# from sklearn.preprocessing import MaxAbsScaler\n",
        "# from sklearn.linear_model import LogisticRegression\n",
        "# from sklearn.metrics import classification_report\n",
        "\n",
        "# vec = CountVectorizer(max_df=0.8, min_df=2, max_features = 1000)\n",
        "# vec.fit(train.text_prep)\n",
        "\n",
        "# bow = vec.transform(train.text_prep)  # bow — bag of words (мешок слов)\n",
        "# bow_test = vec.transform(test_data.text_prep)\n",
        "\n",
        "# scaler = MaxAbsScaler()\n",
        "# bow = scaler.fit_transform(bow)\n",
        "# bow_test = scaler.transform(bow_test)\n",
        "\n",
        "# clf = LogisticRegression(max_iter=200, random_state=42)\n",
        "# clf.fit(bow, y)\n",
        "# pred = clf.predict(bow_test)"
      ]
    },
    {
      "cell_type": "code",
      "execution_count": null,
      "metadata": {
        "colab": {
          "base_uri": "https://localhost:8080/"
        },
        "id": "7ADtpxqeI9W1",
        "outputId": "239df475-aa43-4f22-ed81-bc6f626480e6"
      },
      "outputs": [],
      "source": [
        "# создание эмбеддингов\n",
        "# def get_text_embedding(text):\n",
        "#     result = []\n",
        "#     for word in word_tokenize(text.lower()):\n",
        "#         if word in model_w2v.wv:\n",
        "#             result.append(model_w2v.wv[word])\n",
        "\n",
        "#     if len(result):\n",
        "#         result = np.average(result, axis=0)\n",
        "#     else:\n",
        "#         result = np.zeros(300)\n",
        "#     return result\n",
        "\n",
        "features_t = [get_text_embedding(text) for text in tqdm(test_data.text_prep.values)]\n"
      ]
    },
    {
      "cell_type": "code",
      "execution_count": null,
      "metadata": {
        "colab": {
          "base_uri": "https://localhost:8080/"
        },
        "id": "AdXSoVkGWBEh",
        "outputId": "7a5bc9a2-68d9-434c-b0d8-154c41f2ec2b"
      },
      "outputs": [],
      "source": [
        "X = features\n",
        "X_test = features_t\n",
        "\n",
        "lr_clf = lr_clf\n",
        "\n",
        "lr_clf.fit(X, y)\n",
        "lr_test_pred = lr_clf.predict(X_test)\n",
        "lr_test_pred"
      ]
    },
    {
      "cell_type": "code",
      "execution_count": null,
      "metadata": {
        "colab": {
          "base_uri": "https://localhost:8080/"
        },
        "id": "mqfph-3Lqonb",
        "outputId": "57a4e786-a477-4d5f-c6a1-79212ba770a9"
      },
      "outputs": [],
      "source": [
        "# Решение, применяем пайплайн для train и test\n",
        "\n",
        "X = tfidf.fit_transform(train.text_prep) # берем весь train без разбивки\n",
        "X_test = tfidf.transform(test_data.text_prep) # берем тест, на котором строим сабмит\n",
        "\n",
        "# sc = MaxAbsScaler()\n",
        "# X = sc.fit_transform(X)\n",
        "# X_test = sc.transform(X_test)\n",
        "\n",
        "# # Нормализация матрицы TF-IDF по длине документа\n",
        "X = normalize(X, norm='l2', axis=1)\n",
        "X_test = normalize(X_test, norm='l2', axis=1)\n",
        "\n",
        "# обучение (можно менять модели)\n",
        "lr_clf = sgd_clf\n",
        "lr_clf.fit(X, y)\n",
        "\n",
        "# предсказание на тесте\n",
        "lr_test_pred = lr_clf.predict(X_test)\n",
        "lr_test_pred"
      ]
    },
    {
      "cell_type": "markdown",
      "metadata": {
        "id": "YDJT9_1QZu3u"
      },
      "source": [
        "### сабмит"
      ]
    },
    {
      "cell_type": "code",
      "execution_count": null,
      "metadata": {
        "colab": {
          "base_uri": "https://localhost:8080/",
          "height": 424
        },
        "id": "iBQLG3csZyI3",
        "outputId": "043982ab-0a62-468d-f5cd-724926771dc9"
      },
      "outputs": [],
      "source": [
        "result = pd.DataFrame({'topic': lr_test_pred, 'index' : test_data.index.values})\n",
        "\n",
        "result"
      ]
    },
    {
      "cell_type": "markdown",
      "metadata": {
        "id": "cPmWUjU06z7U"
      },
      "source": []
    },
    {
      "cell_type": "code",
      "execution_count": null,
      "metadata": {
        "id": "CsaEjlJEJvPr"
      },
      "outputs": [],
      "source": [
        "result.to_csv(r'submission_news.csv', index= False )"
      ]
    },
    {
      "cell_type": "code",
      "execution_count": null,
      "metadata": {
        "id": "wlg7NVvuAp8B"
      },
      "outputs": [],
      "source": [
        "# # train.to_pickle(\"train.df\", compression=\"gzip\")\n",
        "# test_data.to_pickle(\"test.df\", compression=\"gzip\")"
      ]
    }
  ],
  "metadata": {
    "colab": {
      "provenance": [],
      "toc_visible": true
    },
    "kernelspec": {
      "display_name": "Python 3",
      "name": "python3"
    },
    "language_info": {
      "name": "python"
    },
    "widgets": {
      "application/vnd.jupyter.widget-state+json": {
        "08488a0754f747f4a48694d00e4238fc": {
          "model_module": "@jupyter-widgets/controls",
          "model_module_version": "1.5.0",
          "model_name": "FloatProgressModel",
          "state": {
            "_dom_classes": [],
            "_model_module": "@jupyter-widgets/controls",
            "_model_module_version": "1.5.0",
            "_model_name": "FloatProgressModel",
            "_view_count": null,
            "_view_module": "@jupyter-widgets/controls",
            "_view_module_version": "1.5.0",
            "_view_name": "ProgressView",
            "bar_style": "success",
            "description": "",
            "description_tooltip": null,
            "layout": "IPY_MODEL_60e2eb56b16a4b7998fb6fa8ee93469f",
            "max": 1649718,
            "min": 0,
            "orientation": "horizontal",
            "style": "IPY_MODEL_0da1ccc7800c497c9fc043104ed55466",
            "value": 1649718
          }
        },
        "08dfe898a1f74cf7a86ea90b0f0423f4": {
          "model_module": "@jupyter-widgets/controls",
          "model_module_version": "1.5.0",
          "model_name": "FloatProgressModel",
          "state": {
            "_dom_classes": [],
            "_model_module": "@jupyter-widgets/controls",
            "_model_module_version": "1.5.0",
            "_model_name": "FloatProgressModel",
            "_view_count": null,
            "_view_module": "@jupyter-widgets/controls",
            "_view_module_version": "1.5.0",
            "_view_name": "ProgressView",
            "bar_style": "success",
            "description": "",
            "description_tooltip": null,
            "layout": "IPY_MODEL_abb4303c645c42128a258c2be0764f0e",
            "max": 714355318,
            "min": 0,
            "orientation": "horizontal",
            "style": "IPY_MODEL_154c901fc2e84c039dc0d0ab6fe4df94",
            "value": 714355318
          }
        },
        "0ada8c039388489d832e0141503d1763": {
          "model_module": "@jupyter-widgets/base",
          "model_module_version": "1.2.0",
          "model_name": "LayoutModel",
          "state": {
            "_model_module": "@jupyter-widgets/base",
            "_model_module_version": "1.2.0",
            "_model_name": "LayoutModel",
            "_view_count": null,
            "_view_module": "@jupyter-widgets/base",
            "_view_module_version": "1.2.0",
            "_view_name": "LayoutView",
            "align_content": null,
            "align_items": null,
            "align_self": null,
            "border": null,
            "bottom": null,
            "display": null,
            "flex": null,
            "flex_flow": null,
            "grid_area": null,
            "grid_auto_columns": null,
            "grid_auto_flow": null,
            "grid_auto_rows": null,
            "grid_column": null,
            "grid_gap": null,
            "grid_row": null,
            "grid_template_areas": null,
            "grid_template_columns": null,
            "grid_template_rows": null,
            "height": null,
            "justify_content": null,
            "justify_items": null,
            "left": null,
            "margin": null,
            "max_height": null,
            "max_width": null,
            "min_height": null,
            "min_width": null,
            "object_fit": null,
            "object_position": null,
            "order": null,
            "overflow": null,
            "overflow_x": null,
            "overflow_y": null,
            "padding": null,
            "right": null,
            "top": null,
            "visibility": null,
            "width": null
          }
        },
        "0da1ccc7800c497c9fc043104ed55466": {
          "model_module": "@jupyter-widgets/controls",
          "model_module_version": "1.5.0",
          "model_name": "ProgressStyleModel",
          "state": {
            "_model_module": "@jupyter-widgets/controls",
            "_model_module_version": "1.5.0",
            "_model_name": "ProgressStyleModel",
            "_view_count": null,
            "_view_module": "@jupyter-widgets/base",
            "_view_module_version": "1.2.0",
            "_view_name": "StyleView",
            "bar_color": null,
            "description_width": ""
          }
        },
        "1016c1b0175a46b5b3d8c991669de47d": {
          "model_module": "@jupyter-widgets/controls",
          "model_module_version": "1.5.0",
          "model_name": "HTMLModel",
          "state": {
            "_dom_classes": [],
            "_model_module": "@jupyter-widgets/controls",
            "_model_module_version": "1.5.0",
            "_model_name": "HTMLModel",
            "_view_count": null,
            "_view_module": "@jupyter-widgets/controls",
            "_view_module_version": "1.5.0",
            "_view_name": "HTMLView",
            "description": "",
            "description_tooltip": null,
            "layout": "IPY_MODEL_a9fd9ec71f7d4bc29e6c86a58c7de174",
            "placeholder": "​",
            "style": "IPY_MODEL_c8c609a044e24f9d833a2c89b58b8952",
            "value": "config.json: 100%"
          }
        },
        "12221c4734cf469a889b03c4012ff3e1": {
          "model_module": "@jupyter-widgets/controls",
          "model_module_version": "1.5.0",
          "model_name": "HTMLModel",
          "state": {
            "_dom_classes": [],
            "_model_module": "@jupyter-widgets/controls",
            "_model_module_version": "1.5.0",
            "_model_name": "HTMLModel",
            "_view_count": null,
            "_view_module": "@jupyter-widgets/controls",
            "_view_module_version": "1.5.0",
            "_view_name": "HTMLView",
            "description": "",
            "description_tooltip": null,
            "layout": "IPY_MODEL_94522787c9c34ac58052d4947f610dd8",
            "placeholder": "​",
            "style": "IPY_MODEL_a77f749b00a544689e631dbea187d597",
            "value": " 1.65M/1.65M [00:00&lt;00:00, 15.6MB/s]"
          }
        },
        "154c901fc2e84c039dc0d0ab6fe4df94": {
          "model_module": "@jupyter-widgets/controls",
          "model_module_version": "1.5.0",
          "model_name": "ProgressStyleModel",
          "state": {
            "_model_module": "@jupyter-widgets/controls",
            "_model_module_version": "1.5.0",
            "_model_name": "ProgressStyleModel",
            "_view_count": null,
            "_view_module": "@jupyter-widgets/base",
            "_view_module_version": "1.2.0",
            "_view_name": "StyleView",
            "bar_color": null,
            "description_width": ""
          }
        },
        "1690199198064704a7b05bd197882d63": {
          "model_module": "@jupyter-widgets/base",
          "model_module_version": "1.2.0",
          "model_name": "LayoutModel",
          "state": {
            "_model_module": "@jupyter-widgets/base",
            "_model_module_version": "1.2.0",
            "_model_name": "LayoutModel",
            "_view_count": null,
            "_view_module": "@jupyter-widgets/base",
            "_view_module_version": "1.2.0",
            "_view_name": "LayoutView",
            "align_content": null,
            "align_items": null,
            "align_self": null,
            "border": null,
            "bottom": null,
            "display": null,
            "flex": null,
            "flex_flow": null,
            "grid_area": null,
            "grid_auto_columns": null,
            "grid_auto_flow": null,
            "grid_auto_rows": null,
            "grid_column": null,
            "grid_gap": null,
            "grid_row": null,
            "grid_template_areas": null,
            "grid_template_columns": null,
            "grid_template_rows": null,
            "height": null,
            "justify_content": null,
            "justify_items": null,
            "left": null,
            "margin": null,
            "max_height": null,
            "max_width": null,
            "min_height": null,
            "min_width": null,
            "object_fit": null,
            "object_position": null,
            "order": null,
            "overflow": null,
            "overflow_x": null,
            "overflow_y": null,
            "padding": null,
            "right": null,
            "top": null,
            "visibility": null,
            "width": null
          }
        },
        "206c79ad66044f9ca8eb90821927a6f6": {
          "model_module": "@jupyter-widgets/base",
          "model_module_version": "1.2.0",
          "model_name": "LayoutModel",
          "state": {
            "_model_module": "@jupyter-widgets/base",
            "_model_module_version": "1.2.0",
            "_model_name": "LayoutModel",
            "_view_count": null,
            "_view_module": "@jupyter-widgets/base",
            "_view_module_version": "1.2.0",
            "_view_name": "LayoutView",
            "align_content": null,
            "align_items": null,
            "align_self": null,
            "border": null,
            "bottom": null,
            "display": null,
            "flex": null,
            "flex_flow": null,
            "grid_area": null,
            "grid_auto_columns": null,
            "grid_auto_flow": null,
            "grid_auto_rows": null,
            "grid_column": null,
            "grid_gap": null,
            "grid_row": null,
            "grid_template_areas": null,
            "grid_template_columns": null,
            "grid_template_rows": null,
            "height": null,
            "justify_content": null,
            "justify_items": null,
            "left": null,
            "margin": null,
            "max_height": null,
            "max_width": null,
            "min_height": null,
            "min_width": null,
            "object_fit": null,
            "object_position": null,
            "order": null,
            "overflow": null,
            "overflow_x": null,
            "overflow_y": null,
            "padding": null,
            "right": null,
            "top": null,
            "visibility": null,
            "width": null
          }
        },
        "20c6542337754f46bdd792c190ef447b": {
          "model_module": "@jupyter-widgets/controls",
          "model_module_version": "1.5.0",
          "model_name": "DescriptionStyleModel",
          "state": {
            "_model_module": "@jupyter-widgets/controls",
            "_model_module_version": "1.5.0",
            "_model_name": "DescriptionStyleModel",
            "_view_count": null,
            "_view_module": "@jupyter-widgets/base",
            "_view_module_version": "1.2.0",
            "_view_name": "StyleView",
            "description_width": ""
          }
        },
        "2172bd0ed4b1490d82a0a48c8136fd14": {
          "model_module": "@jupyter-widgets/controls",
          "model_module_version": "1.5.0",
          "model_name": "HTMLModel",
          "state": {
            "_dom_classes": [],
            "_model_module": "@jupyter-widgets/controls",
            "_model_module_version": "1.5.0",
            "_model_name": "HTMLModel",
            "_view_count": null,
            "_view_module": "@jupyter-widgets/controls",
            "_view_module_version": "1.5.0",
            "_view_name": "HTMLView",
            "description": "",
            "description_tooltip": null,
            "layout": "IPY_MODEL_8ce9d243cc874ce89a08d57c1aa3745e",
            "placeholder": "​",
            "style": "IPY_MODEL_ac42bbfa47fb457ca4afdf05f56aef72",
            "value": "tokenizer_config.json: 100%"
          }
        },
        "2257ab73ffcb4711974a5505ca01c987": {
          "model_module": "@jupyter-widgets/controls",
          "model_module_version": "1.5.0",
          "model_name": "FloatProgressModel",
          "state": {
            "_dom_classes": [],
            "_model_module": "@jupyter-widgets/controls",
            "_model_module_version": "1.5.0",
            "_model_name": "FloatProgressModel",
            "_view_count": null,
            "_view_module": "@jupyter-widgets/controls",
            "_view_module_version": "1.5.0",
            "_view_name": "ProgressView",
            "bar_style": "success",
            "description": "",
            "description_tooltip": null,
            "layout": "IPY_MODEL_aff7dd3067bd4a94935b002bb50d19da",
            "max": 24,
            "min": 0,
            "orientation": "horizontal",
            "style": "IPY_MODEL_7c54adb1d04041dfaf71589e7a70f8c8",
            "value": 24
          }
        },
        "25ba9148f6e441f89fc91e7e7c1d2688": {
          "model_module": "@jupyter-widgets/base",
          "model_module_version": "1.2.0",
          "model_name": "LayoutModel",
          "state": {
            "_model_module": "@jupyter-widgets/base",
            "_model_module_version": "1.2.0",
            "_model_name": "LayoutModel",
            "_view_count": null,
            "_view_module": "@jupyter-widgets/base",
            "_view_module_version": "1.2.0",
            "_view_name": "LayoutView",
            "align_content": null,
            "align_items": null,
            "align_self": null,
            "border": null,
            "bottom": null,
            "display": null,
            "flex": null,
            "flex_flow": null,
            "grid_area": null,
            "grid_auto_columns": null,
            "grid_auto_flow": null,
            "grid_auto_rows": null,
            "grid_column": null,
            "grid_gap": null,
            "grid_row": null,
            "grid_template_areas": null,
            "grid_template_columns": null,
            "grid_template_rows": null,
            "height": null,
            "justify_content": null,
            "justify_items": null,
            "left": null,
            "margin": null,
            "max_height": null,
            "max_width": null,
            "min_height": null,
            "min_width": null,
            "object_fit": null,
            "object_position": null,
            "order": null,
            "overflow": null,
            "overflow_x": null,
            "overflow_y": null,
            "padding": null,
            "right": null,
            "top": null,
            "visibility": null,
            "width": null
          }
        },
        "28faa655702b40e5bc820757975b90e2": {
          "model_module": "@jupyter-widgets/controls",
          "model_module_version": "1.5.0",
          "model_name": "HTMLModel",
          "state": {
            "_dom_classes": [],
            "_model_module": "@jupyter-widgets/controls",
            "_model_module_version": "1.5.0",
            "_model_name": "HTMLModel",
            "_view_count": null,
            "_view_module": "@jupyter-widgets/controls",
            "_view_module_version": "1.5.0",
            "_view_name": "HTMLView",
            "description": "",
            "description_tooltip": null,
            "layout": "IPY_MODEL_eee69ef759654245b222587a44aaba68",
            "placeholder": "​",
            "style": "IPY_MODEL_20c6542337754f46bdd792c190ef447b",
            "value": "vocab.txt: 100%"
          }
        },
        "2bb652bff725425a8a25560c9f692ac2": {
          "model_module": "@jupyter-widgets/controls",
          "model_module_version": "1.5.0",
          "model_name": "HTMLModel",
          "state": {
            "_dom_classes": [],
            "_model_module": "@jupyter-widgets/controls",
            "_model_module_version": "1.5.0",
            "_model_name": "HTMLModel",
            "_view_count": null,
            "_view_module": "@jupyter-widgets/controls",
            "_view_module_version": "1.5.0",
            "_view_name": "HTMLView",
            "description": "",
            "description_tooltip": null,
            "layout": "IPY_MODEL_1690199198064704a7b05bd197882d63",
            "placeholder": "​",
            "style": "IPY_MODEL_a00fb762d54a4cb8a26b9bf84b8789fb",
            "value": "special_tokens_map.json: 100%"
          }
        },
        "360ebbc5e4344e66bc39fc3566cbe085": {
          "model_module": "@jupyter-widgets/controls",
          "model_module_version": "1.5.0",
          "model_name": "DescriptionStyleModel",
          "state": {
            "_model_module": "@jupyter-widgets/controls",
            "_model_module_version": "1.5.0",
            "_model_name": "DescriptionStyleModel",
            "_view_count": null,
            "_view_module": "@jupyter-widgets/base",
            "_view_module_version": "1.2.0",
            "_view_name": "StyleView",
            "description_width": ""
          }
        },
        "39b1e9c0cbc744a99f99b111e2ff35a3": {
          "model_module": "@jupyter-widgets/controls",
          "model_module_version": "1.5.0",
          "model_name": "HTMLModel",
          "state": {
            "_dom_classes": [],
            "_model_module": "@jupyter-widgets/controls",
            "_model_module_version": "1.5.0",
            "_model_name": "HTMLModel",
            "_view_count": null,
            "_view_module": "@jupyter-widgets/controls",
            "_view_module_version": "1.5.0",
            "_view_name": "HTMLView",
            "description": "",
            "description_tooltip": null,
            "layout": "IPY_MODEL_206c79ad66044f9ca8eb90821927a6f6",
            "placeholder": "​",
            "style": "IPY_MODEL_e249fbf5b7f24a9fbd5ce7751246f4b9",
            "value": " 24.0/24.0 [00:00&lt;00:00, 776B/s]"
          }
        },
        "3f5b1200bd224369a7b9276133fd8e87": {
          "model_module": "@jupyter-widgets/controls",
          "model_module_version": "1.5.0",
          "model_name": "HTMLModel",
          "state": {
            "_dom_classes": [],
            "_model_module": "@jupyter-widgets/controls",
            "_model_module_version": "1.5.0",
            "_model_name": "HTMLModel",
            "_view_count": null,
            "_view_module": "@jupyter-widgets/controls",
            "_view_module_version": "1.5.0",
            "_view_name": "HTMLView",
            "description": "",
            "description_tooltip": null,
            "layout": "IPY_MODEL_25ba9148f6e441f89fc91e7e7c1d2688",
            "placeholder": "​",
            "style": "IPY_MODEL_360ebbc5e4344e66bc39fc3566cbe085",
            "value": " 642/642 [00:00&lt;00:00, 15.9kB/s]"
          }
        },
        "4771999a7daa4372b95350861a2c3a10": {
          "model_module": "@jupyter-widgets/controls",
          "model_module_version": "1.5.0",
          "model_name": "HTMLModel",
          "state": {
            "_dom_classes": [],
            "_model_module": "@jupyter-widgets/controls",
            "_model_module_version": "1.5.0",
            "_model_name": "HTMLModel",
            "_view_count": null,
            "_view_module": "@jupyter-widgets/controls",
            "_view_module_version": "1.5.0",
            "_view_name": "HTMLView",
            "description": "",
            "description_tooltip": null,
            "layout": "IPY_MODEL_7fa6a2b94416412abd6d855fa12273c9",
            "placeholder": "​",
            "style": "IPY_MODEL_9b18fdf6220846a4b0d7cd4b8b53bb8a",
            "value": "pytorch_model.bin: 100%"
          }
        },
        "56cdeb33b94b4601a95761251df7191e": {
          "model_module": "@jupyter-widgets/controls",
          "model_module_version": "1.5.0",
          "model_name": "DescriptionStyleModel",
          "state": {
            "_model_module": "@jupyter-widgets/controls",
            "_model_module_version": "1.5.0",
            "_model_name": "DescriptionStyleModel",
            "_view_count": null,
            "_view_module": "@jupyter-widgets/base",
            "_view_module_version": "1.2.0",
            "_view_name": "StyleView",
            "description_width": ""
          }
        },
        "5a1edd05a0634529b6bf3bc56313e79d": {
          "model_module": "@jupyter-widgets/controls",
          "model_module_version": "1.5.0",
          "model_name": "HBoxModel",
          "state": {
            "_dom_classes": [],
            "_model_module": "@jupyter-widgets/controls",
            "_model_module_version": "1.5.0",
            "_model_name": "HBoxModel",
            "_view_count": null,
            "_view_module": "@jupyter-widgets/controls",
            "_view_module_version": "1.5.0",
            "_view_name": "HBoxView",
            "box_style": "",
            "children": [
              "IPY_MODEL_2bb652bff725425a8a25560c9f692ac2",
              "IPY_MODEL_7f1bfcb7b59e4a68b02f4bc0c6128bc4",
              "IPY_MODEL_d4f0246b908743429b2b864d6f885bcd"
            ],
            "layout": "IPY_MODEL_93ef7787af8f455e90fa06188665b644"
          }
        },
        "5a3b9e7c361f4d33a239bd379aed490a": {
          "model_module": "@jupyter-widgets/controls",
          "model_module_version": "1.5.0",
          "model_name": "ProgressStyleModel",
          "state": {
            "_model_module": "@jupyter-widgets/controls",
            "_model_module_version": "1.5.0",
            "_model_name": "ProgressStyleModel",
            "_view_count": null,
            "_view_module": "@jupyter-widgets/base",
            "_view_module_version": "1.2.0",
            "_view_name": "StyleView",
            "bar_color": null,
            "description_width": ""
          }
        },
        "60e2eb56b16a4b7998fb6fa8ee93469f": {
          "model_module": "@jupyter-widgets/base",
          "model_module_version": "1.2.0",
          "model_name": "LayoutModel",
          "state": {
            "_model_module": "@jupyter-widgets/base",
            "_model_module_version": "1.2.0",
            "_model_name": "LayoutModel",
            "_view_count": null,
            "_view_module": "@jupyter-widgets/base",
            "_view_module_version": "1.2.0",
            "_view_name": "LayoutView",
            "align_content": null,
            "align_items": null,
            "align_self": null,
            "border": null,
            "bottom": null,
            "display": null,
            "flex": null,
            "flex_flow": null,
            "grid_area": null,
            "grid_auto_columns": null,
            "grid_auto_flow": null,
            "grid_auto_rows": null,
            "grid_column": null,
            "grid_gap": null,
            "grid_row": null,
            "grid_template_areas": null,
            "grid_template_columns": null,
            "grid_template_rows": null,
            "height": null,
            "justify_content": null,
            "justify_items": null,
            "left": null,
            "margin": null,
            "max_height": null,
            "max_width": null,
            "min_height": null,
            "min_width": null,
            "object_fit": null,
            "object_position": null,
            "order": null,
            "overflow": null,
            "overflow_x": null,
            "overflow_y": null,
            "padding": null,
            "right": null,
            "top": null,
            "visibility": null,
            "width": null
          }
        },
        "6194d8a466e2435d869a86b6d38158ca": {
          "model_module": "@jupyter-widgets/controls",
          "model_module_version": "1.5.0",
          "model_name": "HBoxModel",
          "state": {
            "_dom_classes": [],
            "_model_module": "@jupyter-widgets/controls",
            "_model_module_version": "1.5.0",
            "_model_name": "HBoxModel",
            "_view_count": null,
            "_view_module": "@jupyter-widgets/controls",
            "_view_module_version": "1.5.0",
            "_view_name": "HBoxView",
            "box_style": "",
            "children": [
              "IPY_MODEL_1016c1b0175a46b5b3d8c991669de47d",
              "IPY_MODEL_8586e6da2c904a36893ee626bf1e923b",
              "IPY_MODEL_3f5b1200bd224369a7b9276133fd8e87"
            ],
            "layout": "IPY_MODEL_d1598bd8886f4b7e9459faf85626622f"
          }
        },
        "6aa3880fba9d47c094aa63301a1f87fd": {
          "model_module": "@jupyter-widgets/base",
          "model_module_version": "1.2.0",
          "model_name": "LayoutModel",
          "state": {
            "_model_module": "@jupyter-widgets/base",
            "_model_module_version": "1.2.0",
            "_model_name": "LayoutModel",
            "_view_count": null,
            "_view_module": "@jupyter-widgets/base",
            "_view_module_version": "1.2.0",
            "_view_name": "LayoutView",
            "align_content": null,
            "align_items": null,
            "align_self": null,
            "border": null,
            "bottom": null,
            "display": null,
            "flex": null,
            "flex_flow": null,
            "grid_area": null,
            "grid_auto_columns": null,
            "grid_auto_flow": null,
            "grid_auto_rows": null,
            "grid_column": null,
            "grid_gap": null,
            "grid_row": null,
            "grid_template_areas": null,
            "grid_template_columns": null,
            "grid_template_rows": null,
            "height": null,
            "justify_content": null,
            "justify_items": null,
            "left": null,
            "margin": null,
            "max_height": null,
            "max_width": null,
            "min_height": null,
            "min_width": null,
            "object_fit": null,
            "object_position": null,
            "order": null,
            "overflow": null,
            "overflow_x": null,
            "overflow_y": null,
            "padding": null,
            "right": null,
            "top": null,
            "visibility": null,
            "width": null
          }
        },
        "7c54adb1d04041dfaf71589e7a70f8c8": {
          "model_module": "@jupyter-widgets/controls",
          "model_module_version": "1.5.0",
          "model_name": "ProgressStyleModel",
          "state": {
            "_model_module": "@jupyter-widgets/controls",
            "_model_module_version": "1.5.0",
            "_model_name": "ProgressStyleModel",
            "_view_count": null,
            "_view_module": "@jupyter-widgets/base",
            "_view_module_version": "1.2.0",
            "_view_name": "StyleView",
            "bar_color": null,
            "description_width": ""
          }
        },
        "7f1bfcb7b59e4a68b02f4bc0c6128bc4": {
          "model_module": "@jupyter-widgets/controls",
          "model_module_version": "1.5.0",
          "model_name": "FloatProgressModel",
          "state": {
            "_dom_classes": [],
            "_model_module": "@jupyter-widgets/controls",
            "_model_module_version": "1.5.0",
            "_model_name": "FloatProgressModel",
            "_view_count": null,
            "_view_module": "@jupyter-widgets/controls",
            "_view_module_version": "1.5.0",
            "_view_name": "ProgressView",
            "bar_style": "success",
            "description": "",
            "description_tooltip": null,
            "layout": "IPY_MODEL_a6149b4f8cc04d38b0abce289e447c27",
            "max": 112,
            "min": 0,
            "orientation": "horizontal",
            "style": "IPY_MODEL_b7df3853794043fab649e8c9b6b7bdb3",
            "value": 112
          }
        },
        "7fa6a2b94416412abd6d855fa12273c9": {
          "model_module": "@jupyter-widgets/base",
          "model_module_version": "1.2.0",
          "model_name": "LayoutModel",
          "state": {
            "_model_module": "@jupyter-widgets/base",
            "_model_module_version": "1.2.0",
            "_model_name": "LayoutModel",
            "_view_count": null,
            "_view_module": "@jupyter-widgets/base",
            "_view_module_version": "1.2.0",
            "_view_name": "LayoutView",
            "align_content": null,
            "align_items": null,
            "align_self": null,
            "border": null,
            "bottom": null,
            "display": null,
            "flex": null,
            "flex_flow": null,
            "grid_area": null,
            "grid_auto_columns": null,
            "grid_auto_flow": null,
            "grid_auto_rows": null,
            "grid_column": null,
            "grid_gap": null,
            "grid_row": null,
            "grid_template_areas": null,
            "grid_template_columns": null,
            "grid_template_rows": null,
            "height": null,
            "justify_content": null,
            "justify_items": null,
            "left": null,
            "margin": null,
            "max_height": null,
            "max_width": null,
            "min_height": null,
            "min_width": null,
            "object_fit": null,
            "object_position": null,
            "order": null,
            "overflow": null,
            "overflow_x": null,
            "overflow_y": null,
            "padding": null,
            "right": null,
            "top": null,
            "visibility": null,
            "width": null
          }
        },
        "8391602bb56c4d95af66e2bd33aafef2": {
          "model_module": "@jupyter-widgets/controls",
          "model_module_version": "1.5.0",
          "model_name": "HBoxModel",
          "state": {
            "_dom_classes": [],
            "_model_module": "@jupyter-widgets/controls",
            "_model_module_version": "1.5.0",
            "_model_name": "HBoxModel",
            "_view_count": null,
            "_view_module": "@jupyter-widgets/controls",
            "_view_module_version": "1.5.0",
            "_view_name": "HBoxView",
            "box_style": "",
            "children": [
              "IPY_MODEL_2172bd0ed4b1490d82a0a48c8136fd14",
              "IPY_MODEL_2257ab73ffcb4711974a5505ca01c987",
              "IPY_MODEL_39b1e9c0cbc744a99f99b111e2ff35a3"
            ],
            "layout": "IPY_MODEL_bd37982ce17d4eb592f54edfb8280553"
          }
        },
        "8586e6da2c904a36893ee626bf1e923b": {
          "model_module": "@jupyter-widgets/controls",
          "model_module_version": "1.5.0",
          "model_name": "FloatProgressModel",
          "state": {
            "_dom_classes": [],
            "_model_module": "@jupyter-widgets/controls",
            "_model_module_version": "1.5.0",
            "_model_name": "FloatProgressModel",
            "_view_count": null,
            "_view_module": "@jupyter-widgets/controls",
            "_view_module_version": "1.5.0",
            "_view_name": "ProgressView",
            "bar_style": "success",
            "description": "",
            "description_tooltip": null,
            "layout": "IPY_MODEL_c7b9bf8b91c14fd7be9bdf7ab5db44ed",
            "max": 642,
            "min": 0,
            "orientation": "horizontal",
            "style": "IPY_MODEL_5a3b9e7c361f4d33a239bd379aed490a",
            "value": 642
          }
        },
        "8ce9d243cc874ce89a08d57c1aa3745e": {
          "model_module": "@jupyter-widgets/base",
          "model_module_version": "1.2.0",
          "model_name": "LayoutModel",
          "state": {
            "_model_module": "@jupyter-widgets/base",
            "_model_module_version": "1.2.0",
            "_model_name": "LayoutModel",
            "_view_count": null,
            "_view_module": "@jupyter-widgets/base",
            "_view_module_version": "1.2.0",
            "_view_name": "LayoutView",
            "align_content": null,
            "align_items": null,
            "align_self": null,
            "border": null,
            "bottom": null,
            "display": null,
            "flex": null,
            "flex_flow": null,
            "grid_area": null,
            "grid_auto_columns": null,
            "grid_auto_flow": null,
            "grid_auto_rows": null,
            "grid_column": null,
            "grid_gap": null,
            "grid_row": null,
            "grid_template_areas": null,
            "grid_template_columns": null,
            "grid_template_rows": null,
            "height": null,
            "justify_content": null,
            "justify_items": null,
            "left": null,
            "margin": null,
            "max_height": null,
            "max_width": null,
            "min_height": null,
            "min_width": null,
            "object_fit": null,
            "object_position": null,
            "order": null,
            "overflow": null,
            "overflow_x": null,
            "overflow_y": null,
            "padding": null,
            "right": null,
            "top": null,
            "visibility": null,
            "width": null
          }
        },
        "93ef7787af8f455e90fa06188665b644": {
          "model_module": "@jupyter-widgets/base",
          "model_module_version": "1.2.0",
          "model_name": "LayoutModel",
          "state": {
            "_model_module": "@jupyter-widgets/base",
            "_model_module_version": "1.2.0",
            "_model_name": "LayoutModel",
            "_view_count": null,
            "_view_module": "@jupyter-widgets/base",
            "_view_module_version": "1.2.0",
            "_view_name": "LayoutView",
            "align_content": null,
            "align_items": null,
            "align_self": null,
            "border": null,
            "bottom": null,
            "display": null,
            "flex": null,
            "flex_flow": null,
            "grid_area": null,
            "grid_auto_columns": null,
            "grid_auto_flow": null,
            "grid_auto_rows": null,
            "grid_column": null,
            "grid_gap": null,
            "grid_row": null,
            "grid_template_areas": null,
            "grid_template_columns": null,
            "grid_template_rows": null,
            "height": null,
            "justify_content": null,
            "justify_items": null,
            "left": null,
            "margin": null,
            "max_height": null,
            "max_width": null,
            "min_height": null,
            "min_width": null,
            "object_fit": null,
            "object_position": null,
            "order": null,
            "overflow": null,
            "overflow_x": null,
            "overflow_y": null,
            "padding": null,
            "right": null,
            "top": null,
            "visibility": null,
            "width": null
          }
        },
        "94522787c9c34ac58052d4947f610dd8": {
          "model_module": "@jupyter-widgets/base",
          "model_module_version": "1.2.0",
          "model_name": "LayoutModel",
          "state": {
            "_model_module": "@jupyter-widgets/base",
            "_model_module_version": "1.2.0",
            "_model_name": "LayoutModel",
            "_view_count": null,
            "_view_module": "@jupyter-widgets/base",
            "_view_module_version": "1.2.0",
            "_view_name": "LayoutView",
            "align_content": null,
            "align_items": null,
            "align_self": null,
            "border": null,
            "bottom": null,
            "display": null,
            "flex": null,
            "flex_flow": null,
            "grid_area": null,
            "grid_auto_columns": null,
            "grid_auto_flow": null,
            "grid_auto_rows": null,
            "grid_column": null,
            "grid_gap": null,
            "grid_row": null,
            "grid_template_areas": null,
            "grid_template_columns": null,
            "grid_template_rows": null,
            "height": null,
            "justify_content": null,
            "justify_items": null,
            "left": null,
            "margin": null,
            "max_height": null,
            "max_width": null,
            "min_height": null,
            "min_width": null,
            "object_fit": null,
            "object_position": null,
            "order": null,
            "overflow": null,
            "overflow_x": null,
            "overflow_y": null,
            "padding": null,
            "right": null,
            "top": null,
            "visibility": null,
            "width": null
          }
        },
        "9b18fdf6220846a4b0d7cd4b8b53bb8a": {
          "model_module": "@jupyter-widgets/controls",
          "model_module_version": "1.5.0",
          "model_name": "DescriptionStyleModel",
          "state": {
            "_model_module": "@jupyter-widgets/controls",
            "_model_module_version": "1.5.0",
            "_model_name": "DescriptionStyleModel",
            "_view_count": null,
            "_view_module": "@jupyter-widgets/base",
            "_view_module_version": "1.2.0",
            "_view_name": "StyleView",
            "description_width": ""
          }
        },
        "a00fb762d54a4cb8a26b9bf84b8789fb": {
          "model_module": "@jupyter-widgets/controls",
          "model_module_version": "1.5.0",
          "model_name": "DescriptionStyleModel",
          "state": {
            "_model_module": "@jupyter-widgets/controls",
            "_model_module_version": "1.5.0",
            "_model_name": "DescriptionStyleModel",
            "_view_count": null,
            "_view_module": "@jupyter-widgets/base",
            "_view_module_version": "1.2.0",
            "_view_name": "StyleView",
            "description_width": ""
          }
        },
        "a6149b4f8cc04d38b0abce289e447c27": {
          "model_module": "@jupyter-widgets/base",
          "model_module_version": "1.2.0",
          "model_name": "LayoutModel",
          "state": {
            "_model_module": "@jupyter-widgets/base",
            "_model_module_version": "1.2.0",
            "_model_name": "LayoutModel",
            "_view_count": null,
            "_view_module": "@jupyter-widgets/base",
            "_view_module_version": "1.2.0",
            "_view_name": "LayoutView",
            "align_content": null,
            "align_items": null,
            "align_self": null,
            "border": null,
            "bottom": null,
            "display": null,
            "flex": null,
            "flex_flow": null,
            "grid_area": null,
            "grid_auto_columns": null,
            "grid_auto_flow": null,
            "grid_auto_rows": null,
            "grid_column": null,
            "grid_gap": null,
            "grid_row": null,
            "grid_template_areas": null,
            "grid_template_columns": null,
            "grid_template_rows": null,
            "height": null,
            "justify_content": null,
            "justify_items": null,
            "left": null,
            "margin": null,
            "max_height": null,
            "max_width": null,
            "min_height": null,
            "min_width": null,
            "object_fit": null,
            "object_position": null,
            "order": null,
            "overflow": null,
            "overflow_x": null,
            "overflow_y": null,
            "padding": null,
            "right": null,
            "top": null,
            "visibility": null,
            "width": null
          }
        },
        "a77f749b00a544689e631dbea187d597": {
          "model_module": "@jupyter-widgets/controls",
          "model_module_version": "1.5.0",
          "model_name": "DescriptionStyleModel",
          "state": {
            "_model_module": "@jupyter-widgets/controls",
            "_model_module_version": "1.5.0",
            "_model_name": "DescriptionStyleModel",
            "_view_count": null,
            "_view_module": "@jupyter-widgets/base",
            "_view_module_version": "1.2.0",
            "_view_name": "StyleView",
            "description_width": ""
          }
        },
        "a9fd9ec71f7d4bc29e6c86a58c7de174": {
          "model_module": "@jupyter-widgets/base",
          "model_module_version": "1.2.0",
          "model_name": "LayoutModel",
          "state": {
            "_model_module": "@jupyter-widgets/base",
            "_model_module_version": "1.2.0",
            "_model_name": "LayoutModel",
            "_view_count": null,
            "_view_module": "@jupyter-widgets/base",
            "_view_module_version": "1.2.0",
            "_view_name": "LayoutView",
            "align_content": null,
            "align_items": null,
            "align_self": null,
            "border": null,
            "bottom": null,
            "display": null,
            "flex": null,
            "flex_flow": null,
            "grid_area": null,
            "grid_auto_columns": null,
            "grid_auto_flow": null,
            "grid_auto_rows": null,
            "grid_column": null,
            "grid_gap": null,
            "grid_row": null,
            "grid_template_areas": null,
            "grid_template_columns": null,
            "grid_template_rows": null,
            "height": null,
            "justify_content": null,
            "justify_items": null,
            "left": null,
            "margin": null,
            "max_height": null,
            "max_width": null,
            "min_height": null,
            "min_width": null,
            "object_fit": null,
            "object_position": null,
            "order": null,
            "overflow": null,
            "overflow_x": null,
            "overflow_y": null,
            "padding": null,
            "right": null,
            "top": null,
            "visibility": null,
            "width": null
          }
        },
        "abb4303c645c42128a258c2be0764f0e": {
          "model_module": "@jupyter-widgets/base",
          "model_module_version": "1.2.0",
          "model_name": "LayoutModel",
          "state": {
            "_model_module": "@jupyter-widgets/base",
            "_model_module_version": "1.2.0",
            "_model_name": "LayoutModel",
            "_view_count": null,
            "_view_module": "@jupyter-widgets/base",
            "_view_module_version": "1.2.0",
            "_view_name": "LayoutView",
            "align_content": null,
            "align_items": null,
            "align_self": null,
            "border": null,
            "bottom": null,
            "display": null,
            "flex": null,
            "flex_flow": null,
            "grid_area": null,
            "grid_auto_columns": null,
            "grid_auto_flow": null,
            "grid_auto_rows": null,
            "grid_column": null,
            "grid_gap": null,
            "grid_row": null,
            "grid_template_areas": null,
            "grid_template_columns": null,
            "grid_template_rows": null,
            "height": null,
            "justify_content": null,
            "justify_items": null,
            "left": null,
            "margin": null,
            "max_height": null,
            "max_width": null,
            "min_height": null,
            "min_width": null,
            "object_fit": null,
            "object_position": null,
            "order": null,
            "overflow": null,
            "overflow_x": null,
            "overflow_y": null,
            "padding": null,
            "right": null,
            "top": null,
            "visibility": null,
            "width": null
          }
        },
        "ac42bbfa47fb457ca4afdf05f56aef72": {
          "model_module": "@jupyter-widgets/controls",
          "model_module_version": "1.5.0",
          "model_name": "DescriptionStyleModel",
          "state": {
            "_model_module": "@jupyter-widgets/controls",
            "_model_module_version": "1.5.0",
            "_model_name": "DescriptionStyleModel",
            "_view_count": null,
            "_view_module": "@jupyter-widgets/base",
            "_view_module_version": "1.2.0",
            "_view_name": "StyleView",
            "description_width": ""
          }
        },
        "aff7dd3067bd4a94935b002bb50d19da": {
          "model_module": "@jupyter-widgets/base",
          "model_module_version": "1.2.0",
          "model_name": "LayoutModel",
          "state": {
            "_model_module": "@jupyter-widgets/base",
            "_model_module_version": "1.2.0",
            "_model_name": "LayoutModel",
            "_view_count": null,
            "_view_module": "@jupyter-widgets/base",
            "_view_module_version": "1.2.0",
            "_view_name": "LayoutView",
            "align_content": null,
            "align_items": null,
            "align_self": null,
            "border": null,
            "bottom": null,
            "display": null,
            "flex": null,
            "flex_flow": null,
            "grid_area": null,
            "grid_auto_columns": null,
            "grid_auto_flow": null,
            "grid_auto_rows": null,
            "grid_column": null,
            "grid_gap": null,
            "grid_row": null,
            "grid_template_areas": null,
            "grid_template_columns": null,
            "grid_template_rows": null,
            "height": null,
            "justify_content": null,
            "justify_items": null,
            "left": null,
            "margin": null,
            "max_height": null,
            "max_width": null,
            "min_height": null,
            "min_width": null,
            "object_fit": null,
            "object_position": null,
            "order": null,
            "overflow": null,
            "overflow_x": null,
            "overflow_y": null,
            "padding": null,
            "right": null,
            "top": null,
            "visibility": null,
            "width": null
          }
        },
        "b47222f886b34567968272152187cf8a": {
          "model_module": "@jupyter-widgets/controls",
          "model_module_version": "1.5.0",
          "model_name": "HBoxModel",
          "state": {
            "_dom_classes": [],
            "_model_module": "@jupyter-widgets/controls",
            "_model_module_version": "1.5.0",
            "_model_name": "HBoxModel",
            "_view_count": null,
            "_view_module": "@jupyter-widgets/controls",
            "_view_module_version": "1.5.0",
            "_view_name": "HBoxView",
            "box_style": "",
            "children": [
              "IPY_MODEL_28faa655702b40e5bc820757975b90e2",
              "IPY_MODEL_08488a0754f747f4a48694d00e4238fc",
              "IPY_MODEL_12221c4734cf469a889b03c4012ff3e1"
            ],
            "layout": "IPY_MODEL_6aa3880fba9d47c094aa63301a1f87fd"
          }
        },
        "b7151b0bce3646c2a66bb320c680f89b": {
          "model_module": "@jupyter-widgets/base",
          "model_module_version": "1.2.0",
          "model_name": "LayoutModel",
          "state": {
            "_model_module": "@jupyter-widgets/base",
            "_model_module_version": "1.2.0",
            "_model_name": "LayoutModel",
            "_view_count": null,
            "_view_module": "@jupyter-widgets/base",
            "_view_module_version": "1.2.0",
            "_view_name": "LayoutView",
            "align_content": null,
            "align_items": null,
            "align_self": null,
            "border": null,
            "bottom": null,
            "display": null,
            "flex": null,
            "flex_flow": null,
            "grid_area": null,
            "grid_auto_columns": null,
            "grid_auto_flow": null,
            "grid_auto_rows": null,
            "grid_column": null,
            "grid_gap": null,
            "grid_row": null,
            "grid_template_areas": null,
            "grid_template_columns": null,
            "grid_template_rows": null,
            "height": null,
            "justify_content": null,
            "justify_items": null,
            "left": null,
            "margin": null,
            "max_height": null,
            "max_width": null,
            "min_height": null,
            "min_width": null,
            "object_fit": null,
            "object_position": null,
            "order": null,
            "overflow": null,
            "overflow_x": null,
            "overflow_y": null,
            "padding": null,
            "right": null,
            "top": null,
            "visibility": null,
            "width": null
          }
        },
        "b7df3853794043fab649e8c9b6b7bdb3": {
          "model_module": "@jupyter-widgets/controls",
          "model_module_version": "1.5.0",
          "model_name": "ProgressStyleModel",
          "state": {
            "_model_module": "@jupyter-widgets/controls",
            "_model_module_version": "1.5.0",
            "_model_name": "ProgressStyleModel",
            "_view_count": null,
            "_view_module": "@jupyter-widgets/base",
            "_view_module_version": "1.2.0",
            "_view_name": "StyleView",
            "bar_color": null,
            "description_width": ""
          }
        },
        "bd37982ce17d4eb592f54edfb8280553": {
          "model_module": "@jupyter-widgets/base",
          "model_module_version": "1.2.0",
          "model_name": "LayoutModel",
          "state": {
            "_model_module": "@jupyter-widgets/base",
            "_model_module_version": "1.2.0",
            "_model_name": "LayoutModel",
            "_view_count": null,
            "_view_module": "@jupyter-widgets/base",
            "_view_module_version": "1.2.0",
            "_view_name": "LayoutView",
            "align_content": null,
            "align_items": null,
            "align_self": null,
            "border": null,
            "bottom": null,
            "display": null,
            "flex": null,
            "flex_flow": null,
            "grid_area": null,
            "grid_auto_columns": null,
            "grid_auto_flow": null,
            "grid_auto_rows": null,
            "grid_column": null,
            "grid_gap": null,
            "grid_row": null,
            "grid_template_areas": null,
            "grid_template_columns": null,
            "grid_template_rows": null,
            "height": null,
            "justify_content": null,
            "justify_items": null,
            "left": null,
            "margin": null,
            "max_height": null,
            "max_width": null,
            "min_height": null,
            "min_width": null,
            "object_fit": null,
            "object_position": null,
            "order": null,
            "overflow": null,
            "overflow_x": null,
            "overflow_y": null,
            "padding": null,
            "right": null,
            "top": null,
            "visibility": null,
            "width": null
          }
        },
        "c7b9bf8b91c14fd7be9bdf7ab5db44ed": {
          "model_module": "@jupyter-widgets/base",
          "model_module_version": "1.2.0",
          "model_name": "LayoutModel",
          "state": {
            "_model_module": "@jupyter-widgets/base",
            "_model_module_version": "1.2.0",
            "_model_name": "LayoutModel",
            "_view_count": null,
            "_view_module": "@jupyter-widgets/base",
            "_view_module_version": "1.2.0",
            "_view_name": "LayoutView",
            "align_content": null,
            "align_items": null,
            "align_self": null,
            "border": null,
            "bottom": null,
            "display": null,
            "flex": null,
            "flex_flow": null,
            "grid_area": null,
            "grid_auto_columns": null,
            "grid_auto_flow": null,
            "grid_auto_rows": null,
            "grid_column": null,
            "grid_gap": null,
            "grid_row": null,
            "grid_template_areas": null,
            "grid_template_columns": null,
            "grid_template_rows": null,
            "height": null,
            "justify_content": null,
            "justify_items": null,
            "left": null,
            "margin": null,
            "max_height": null,
            "max_width": null,
            "min_height": null,
            "min_width": null,
            "object_fit": null,
            "object_position": null,
            "order": null,
            "overflow": null,
            "overflow_x": null,
            "overflow_y": null,
            "padding": null,
            "right": null,
            "top": null,
            "visibility": null,
            "width": null
          }
        },
        "c8c609a044e24f9d833a2c89b58b8952": {
          "model_module": "@jupyter-widgets/controls",
          "model_module_version": "1.5.0",
          "model_name": "DescriptionStyleModel",
          "state": {
            "_model_module": "@jupyter-widgets/controls",
            "_model_module_version": "1.5.0",
            "_model_name": "DescriptionStyleModel",
            "_view_count": null,
            "_view_module": "@jupyter-widgets/base",
            "_view_module_version": "1.2.0",
            "_view_name": "StyleView",
            "description_width": ""
          }
        },
        "cbe63e622bf242898bd949f62260ea50": {
          "model_module": "@jupyter-widgets/controls",
          "model_module_version": "1.5.0",
          "model_name": "HTMLModel",
          "state": {
            "_dom_classes": [],
            "_model_module": "@jupyter-widgets/controls",
            "_model_module_version": "1.5.0",
            "_model_name": "HTMLModel",
            "_view_count": null,
            "_view_module": "@jupyter-widgets/controls",
            "_view_module_version": "1.5.0",
            "_view_name": "HTMLView",
            "description": "",
            "description_tooltip": null,
            "layout": "IPY_MODEL_0ada8c039388489d832e0141503d1763",
            "placeholder": "​",
            "style": "IPY_MODEL_56cdeb33b94b4601a95761251df7191e",
            "value": " 714M/714M [00:07&lt;00:00, 29.9MB/s]"
          }
        },
        "cf5d41d031764defb85e51ddeecd6f68": {
          "model_module": "@jupyter-widgets/base",
          "model_module_version": "1.2.0",
          "model_name": "LayoutModel",
          "state": {
            "_model_module": "@jupyter-widgets/base",
            "_model_module_version": "1.2.0",
            "_model_name": "LayoutModel",
            "_view_count": null,
            "_view_module": "@jupyter-widgets/base",
            "_view_module_version": "1.2.0",
            "_view_name": "LayoutView",
            "align_content": null,
            "align_items": null,
            "align_self": null,
            "border": null,
            "bottom": null,
            "display": null,
            "flex": null,
            "flex_flow": null,
            "grid_area": null,
            "grid_auto_columns": null,
            "grid_auto_flow": null,
            "grid_auto_rows": null,
            "grid_column": null,
            "grid_gap": null,
            "grid_row": null,
            "grid_template_areas": null,
            "grid_template_columns": null,
            "grid_template_rows": null,
            "height": null,
            "justify_content": null,
            "justify_items": null,
            "left": null,
            "margin": null,
            "max_height": null,
            "max_width": null,
            "min_height": null,
            "min_width": null,
            "object_fit": null,
            "object_position": null,
            "order": null,
            "overflow": null,
            "overflow_x": null,
            "overflow_y": null,
            "padding": null,
            "right": null,
            "top": null,
            "visibility": null,
            "width": null
          }
        },
        "d1598bd8886f4b7e9459faf85626622f": {
          "model_module": "@jupyter-widgets/base",
          "model_module_version": "1.2.0",
          "model_name": "LayoutModel",
          "state": {
            "_model_module": "@jupyter-widgets/base",
            "_model_module_version": "1.2.0",
            "_model_name": "LayoutModel",
            "_view_count": null,
            "_view_module": "@jupyter-widgets/base",
            "_view_module_version": "1.2.0",
            "_view_name": "LayoutView",
            "align_content": null,
            "align_items": null,
            "align_self": null,
            "border": null,
            "bottom": null,
            "display": null,
            "flex": null,
            "flex_flow": null,
            "grid_area": null,
            "grid_auto_columns": null,
            "grid_auto_flow": null,
            "grid_auto_rows": null,
            "grid_column": null,
            "grid_gap": null,
            "grid_row": null,
            "grid_template_areas": null,
            "grid_template_columns": null,
            "grid_template_rows": null,
            "height": null,
            "justify_content": null,
            "justify_items": null,
            "left": null,
            "margin": null,
            "max_height": null,
            "max_width": null,
            "min_height": null,
            "min_width": null,
            "object_fit": null,
            "object_position": null,
            "order": null,
            "overflow": null,
            "overflow_x": null,
            "overflow_y": null,
            "padding": null,
            "right": null,
            "top": null,
            "visibility": null,
            "width": null
          }
        },
        "d4f0246b908743429b2b864d6f885bcd": {
          "model_module": "@jupyter-widgets/controls",
          "model_module_version": "1.5.0",
          "model_name": "HTMLModel",
          "state": {
            "_dom_classes": [],
            "_model_module": "@jupyter-widgets/controls",
            "_model_module_version": "1.5.0",
            "_model_name": "HTMLModel",
            "_view_count": null,
            "_view_module": "@jupyter-widgets/controls",
            "_view_module_version": "1.5.0",
            "_view_name": "HTMLView",
            "description": "",
            "description_tooltip": null,
            "layout": "IPY_MODEL_cf5d41d031764defb85e51ddeecd6f68",
            "placeholder": "​",
            "style": "IPY_MODEL_d5b13ec83cbb41c3930259083097d693",
            "value": " 112/112 [00:00&lt;00:00, 9.04kB/s]"
          }
        },
        "d5b13ec83cbb41c3930259083097d693": {
          "model_module": "@jupyter-widgets/controls",
          "model_module_version": "1.5.0",
          "model_name": "DescriptionStyleModel",
          "state": {
            "_model_module": "@jupyter-widgets/controls",
            "_model_module_version": "1.5.0",
            "_model_name": "DescriptionStyleModel",
            "_view_count": null,
            "_view_module": "@jupyter-widgets/base",
            "_view_module_version": "1.2.0",
            "_view_name": "StyleView",
            "description_width": ""
          }
        },
        "d879765c76a1445a94e46209fbc3ad6f": {
          "model_module": "@jupyter-widgets/controls",
          "model_module_version": "1.5.0",
          "model_name": "HBoxModel",
          "state": {
            "_dom_classes": [],
            "_model_module": "@jupyter-widgets/controls",
            "_model_module_version": "1.5.0",
            "_model_name": "HBoxModel",
            "_view_count": null,
            "_view_module": "@jupyter-widgets/controls",
            "_view_module_version": "1.5.0",
            "_view_name": "HBoxView",
            "box_style": "",
            "children": [
              "IPY_MODEL_4771999a7daa4372b95350861a2c3a10",
              "IPY_MODEL_08dfe898a1f74cf7a86ea90b0f0423f4",
              "IPY_MODEL_cbe63e622bf242898bd949f62260ea50"
            ],
            "layout": "IPY_MODEL_b7151b0bce3646c2a66bb320c680f89b"
          }
        },
        "e249fbf5b7f24a9fbd5ce7751246f4b9": {
          "model_module": "@jupyter-widgets/controls",
          "model_module_version": "1.5.0",
          "model_name": "DescriptionStyleModel",
          "state": {
            "_model_module": "@jupyter-widgets/controls",
            "_model_module_version": "1.5.0",
            "_model_name": "DescriptionStyleModel",
            "_view_count": null,
            "_view_module": "@jupyter-widgets/base",
            "_view_module_version": "1.2.0",
            "_view_name": "StyleView",
            "description_width": ""
          }
        },
        "eee69ef759654245b222587a44aaba68": {
          "model_module": "@jupyter-widgets/base",
          "model_module_version": "1.2.0",
          "model_name": "LayoutModel",
          "state": {
            "_model_module": "@jupyter-widgets/base",
            "_model_module_version": "1.2.0",
            "_model_name": "LayoutModel",
            "_view_count": null,
            "_view_module": "@jupyter-widgets/base",
            "_view_module_version": "1.2.0",
            "_view_name": "LayoutView",
            "align_content": null,
            "align_items": null,
            "align_self": null,
            "border": null,
            "bottom": null,
            "display": null,
            "flex": null,
            "flex_flow": null,
            "grid_area": null,
            "grid_auto_columns": null,
            "grid_auto_flow": null,
            "grid_auto_rows": null,
            "grid_column": null,
            "grid_gap": null,
            "grid_row": null,
            "grid_template_areas": null,
            "grid_template_columns": null,
            "grid_template_rows": null,
            "height": null,
            "justify_content": null,
            "justify_items": null,
            "left": null,
            "margin": null,
            "max_height": null,
            "max_width": null,
            "min_height": null,
            "min_width": null,
            "object_fit": null,
            "object_position": null,
            "order": null,
            "overflow": null,
            "overflow_x": null,
            "overflow_y": null,
            "padding": null,
            "right": null,
            "top": null,
            "visibility": null,
            "width": null
          }
        }
      }
    }
  },
  "nbformat": 4,
  "nbformat_minor": 0
}
